{
 "cells": [
  {
   "cell_type": "markdown",
   "metadata": {},
   "source": [
    "## Exact simulation of the 3/2 model"
   ]
  },
  {
   "cell_type": "markdown",
   "metadata": {},
   "source": [
    "Different from Baldeaux ([2012](https://doi.org/10.1142/S021902491250032X)), we use an almost exact way to simulate the stock price under the 3/2 model. The dynamics of the stock price under the 3/2 model under the risk-neutral measure are given by\n",
    "\n",
    "$$\n",
    " \\frac{dS_t}{S_t} = rdt + \\sqrt{V_t}\\rho dW_t^1 + \\sqrt{V_t}\\sqrt{1-\\rho^2}dW_t^2 \\tag{1}\n",
    "$$\n",
    "\n",
    "$$\n",
    " dV_t = \\kappa V_t (\\theta - V_t)dt + \\epsilon V_t^{3/2}dW_t^1 \\tag{2}\n",
    "$$\n",
    "\n",
    "where $W_t^1$ and $W_t^2$ are independent Brownian motions. Regarding the parameters, $r$ represents the constant interest rate, $\\rho$ the instantaneous correlation between the return on the stock and the variance process and $\\epsilon$ governs the volatility of volatility. The speed of mean reversion is given by $\\kappa V_t$ and $\\theta$ denotes the long-run mean of the variance process.\n",
    "\n",
    "Defining $X_t = \\frac{1}{V_t}$, we obtain\n",
    "\n",
    "$$\n",
    "dX_t = (\\kappa + \\epsilon^2 - \\kappa\\theta X_t)dt - \\epsilon \\sqrt{X_t}dW_t^1 \\tag{3}\n",
    "$$\n",
    "\n"
   ]
  },
  {
   "cell_type": "markdown",
   "metadata": {},
   "source": [
    "### Part 1: Almost Exact MC Method:\n",
    "\n",
    "### Step 1): Simulating $X_T$\n",
    "\n",
    "$X_T$ is distributed as a noncentral $ \\chi^2 $ distribution\n",
    "\n",
    "$$\n",
    "\\frac{X_T{\\rm exp}\\lbrace \\kappa \\theta T \\rbrace}{c(T)} \\sim \\chi^2(\\delta, \\alpha)\n",
    "$$\n",
    "\n",
    "where\n",
    "$$\n",
    "\\delta = \\frac{4(\\kappa + \\epsilon^2)}{\\epsilon^2}, \\quad \\alpha = \\frac{X_0}{c(T)}, \\quad c(T) = \\frac{\\epsilon^2({\\rm exp}\\lbrace \\kappa\\theta T \\rbrace - 1)}{4\\kappa\\theta}\n",
    "$$"
   ]
  },
  {
   "cell_type": "markdown",
   "metadata": {},
   "source": [
    "### Step 2): Simulating $\\int_0^T \\frac{ds}{X_s}$ Given $X_T$\n",
    "\n",
    "Let $X_t$ be given by Eq. (3), then the Laplace transform of the conditional distribution of $\\int_0^t \\frac{ds}{X_s}|X_t$ is\n",
    "\n",
    "$$\n",
    "E\\left({\\rm exp}\\left\\lbrace -a^* \\int_0^t \\frac{ds}{X_s} \\ \\bigg| \\ X_t \\right\\rbrace \\right) = \\frac{I_{\\sqrt{\\nu^2+8a^*/\\epsilon^2}}\\left(-\\frac{2\\kappa\\theta\\sqrt{X_tX_0}}{\\epsilon^2{\\rm sinh}\\left(-\\frac{\\kappa\\theta t}{2}\\right)}\\right)}{I_{\\nu}\\left(-\\frac{2\\kappa\\theta\\sqrt{X_tX_0}}{\\epsilon^2{\\rm sinh}\\left(-\\frac{\\kappa\\theta t}{2}\\right)}\\right)}\n",
    "$$\n"
   ]
  },
  {
   "cell_type": "markdown",
   "metadata": {},
   "source": [
    "where $I_{\\nu}(z)$ denotes the modified Bessel function of the first kind, $\\delta = \\frac{4(\\kappa + \\epsilon^2)}{\\epsilon^2}$ and $\\nu = \\frac{\\delta}{2} - 1$. By setting $a^* = -ia$ we obtain the characteristic function $\\Phi(a)$\n",
    "\n",
    "The characteristic function of $\\int_0^t \\frac{ds}{X_s}|X_t$ is\n",
    "\n",
    "$$\n",
    "\\Phi(a) = E\\left({\\rm exp}\\left\\lbrace ia \\int_0^t \\frac{ds}{X_s} \\ \\bigg| \\ X_t \\right\\rbrace \\right) = \\frac{I_{\\sqrt{\\nu^2-8ia/\\epsilon^2}}\\left(-\\frac{2\\kappa\\theta\\sqrt{X_tX_0}}{\\epsilon^2{\\rm sinh}\\left(-\\frac{\\kappa\\theta t}{2}\\right)}\\right)}{I_{\\nu}\\left(-\\frac{2\\kappa\\theta\\sqrt{X_tX_0}}{\\epsilon^2{\\rm sinh}\\left(-\\frac{\\kappa\\theta t}{2}\\right)}\\right)}\n",
    "$$"
   ]
  },
  {
   "cell_type": "markdown",
   "metadata": {},
   "source": [
    "### Step 3):  Approximate the Distribution of $V_T$  $:= \\frac{1}{X_T}$\n",
    "\n",
    "Approximate $V_T$ with Log-normal distribution by matching the first and second moment $E(V_T|v_T)$, $E(V_T^2|v_T)$, and we can get\n",
    "\n",
    "$$ \\mu = M_1,    \\sigma = \\sqrt \\frac{M_2}{M_1^2}$$\n"
   ]
  },
  {
   "cell_type": "markdown",
   "metadata": {},
   "source": [
    "### Step 4):  Calculate Option Price\n",
    "\n",
    "The SDE in a de-correlated form:\n",
    "$$dS_t = \\sigma_t(\\rho dZ_t+\\sqrt{1-\\rho^2}dX_t),   with dX_tdZ_t=0.$$\n",
    "\n",
    "Randomly picking a path given $V_T$, and we can get $ \\int_0^T\\sigma_t^2dt$\n",
    "\n",
    "Under normal model ($\\beta=0$): \n",
    "\n",
    "$$S_T=S_0+\\frac{\\rho}{\\epsilon}(X_T-X_0-k\\theta T+(k+\\frac{1}{2}\\epsilon^2)\\int_0^T\\sigma_t^2dt)+\\sqrt{(1-\\rho^2)V_T}X_1$$\n",
    "\n",
    "and the option price is from the normal model:\n",
    "\n",
    "$$C_N(K,S_0:=S_0+\\frac{\\rho}{\\epsilon}(X_T-X_0-k\\theta T+(k+\\frac{1}{2}\\epsilon^2)\\int_0^T\\sigma_t^2dt, \\sigma_N := \\sqrt{(1-\\rho^2)V_T/T}  )$$\n",
    "\n",
    "Under BSM model ($\\beta=1$): \n",
    "\n",
    "$$log(\\frac{S_T}{S_0})=\\frac{\\rho}{\\epsilon}(log(\\frac{X_0}{X_T})-k(\\theta T-(1+\\frac{\\epsilon^2}{2k})V_T))-\\frac{1}{2}V_T+\\sqrt{(1-\\rho^2)V_T}X_1$$\n",
    "\n",
    "And the option price is from the BSM formula:\n",
    "\n",
    "$$C_{BS}(K,S_0e^{\\frac{\\rho}{\\epsilon}(log(\\frac{X_0}{X_T})-k(\\theta T-(1+\\frac{\\epsilon^2}{2k})V_T))-\\frac{\\rho^2}{2}I_T},\\sqrt{(1-\\rho^2)V_T/T})$$\n",
    "Furthermore, we consider three versions of almost exact MC:\n",
    "\n",
    "Version 1: original char_func, and use abs() remediation on moments calculation\n",
    "\n",
    "Version 2: original char_func, with $M1$ as the simulation of $U_T$\n",
    "\n",
    "Version 3: new char_func from Choi"
   ]
  },
  {
   "cell_type": "markdown",
   "metadata": {},
   "source": [
    "### Part 2: Numerical Experiments:\n",
    "\n",
    "\n",
    "Baldeaux ([2012](https://doi.org/10.1142/S021902491250032X)) chooses the following set of parameters and gives the reference option price **0.443059** (Case I)\n",
    "\n",
    "$$\n",
    "S_0 = 1, \\quad K = 1, \\quad \\kappa = 2, \\quad \\theta = 1.5, \\quad \\epsilon = 0.2,\n",
    "$$\n",
    "\n",
    "$$\n",
    "\\rho = -0.5, \\quad V_0 = 1, \\quad T = 1, \\quad r = 0.05\n",
    "$$\n",
    "\n",
    "\n",
    "|Parameters | Case I | \n",
    "|:- - - |- - - -|\n",
    "|$S_0$| 1 |\n",
    "|$K$| 1 |\n",
    "|$\\kappa$| 2 |\n",
    "|$\\theta$|1.5|\n",
    "|$\\epsilon$|0.2|\n",
    "|$\\rho$|-0.5|\n",
    "|$V_0$|1|\n",
    "|$r$|0.05|\n",
    "|$T$|1|\n",
    "|Reference option price|0.443059|\n",
    "\n",
    "\n",
    "IRO RENE KOUARFATE, MICHAEL A. KOURITZIN, AND ANNE MACKAY (2020) choose the following parameters and calculate the exact price (Case II to Case V):\n",
    "\n",
    "\n",
    "|Parameters | Case II | Case III | Case IV | Case V |\n",
    "|:- - - |- - - -|- - - -|- - - -|- - - -|\n",
    "|$$S_0$$|100|100|100|100|\n",
    "|$$\\kappa$$|22.84|18.32|19.76|20.48|\n",
    "|$$\\theta$$|0.218|0.218|0.218|0.218|\n",
    "|$$\\epsilon$$|8.56|8.56|3.20|3.20|\n",
    "|$$\\rho$$|-0.99|-0.99|-0.99|-0.99|\n",
    "|$$V_0$$|0.06|0.06|0.06|0.06|\n",
    "|$$r$$|0.00|0.00|0.00|0.00|\n",
    "|$$T$$|0.5|0.5|0.5|0.5|\n",
    "\n",
    "The exact prices of European call options under different $K$ will be as following:\n",
    "\n",
    "|$$K/S_0$$| Case II | Case III | Case IV | Case V |\n",
    "|:- - - |- - - -|- - - -|- - - -|- - - -|\n",
    "|0.95|10.364|10.055|11.657|11.724|\n",
    "|1|7.386|7.042|8.926|8.999|\n",
    "|1.05|4.938|4.586|6.636|6.710|\n"
   ]
  },
  {
   "cell_type": "markdown",
   "metadata": {},
   "source": [
    "### Part 3: Tests:"
   ]
  },
  {
   "cell_type": "code",
   "execution_count": 1,
   "metadata": {
    "scrolled": false
   },
   "outputs": [],
   "source": [
    "import sys, os\n",
    "sys.path.insert(0, 'E:/研究生课程/研二下学期/应用随机过程/Final_Project/PyFeng')\n",
    "import pyfeng as pf\n",
    "\n",
    "from pyfeng import three_halves_aemc\n",
    "import numpy as np"
   ]
  },
  {
   "cell_type": "code",
   "execution_count": 2,
   "metadata": {},
   "outputs": [
    {
     "name": "stdout",
     "output_type": "stream",
     "text": [
      "(55.738949387418515, 107.17231288883674)\n",
      "(11.018801709581338, 4.612786191332198)\n",
      "(39.655219132846746, 86.33058304494106)\n"
     ]
    }
   ],
   "source": [
    "# Case I\n",
    "\n",
    "amec = three_halves_aemc.Three_Halves_AEMC_Model(S0=1, Ks=1, T=1,r=0.05, sigma_0=1, beta=1, rho=-0.5, theta=1.5, kappa=2, vov=0.2, path_num = 100, cp=1)\n",
    "\n",
    "print(amec.optionPrice_version1())\n",
    "print(amec.optionPrice_version2())\n",
    "print(amec.optionPrice_version3())"
   ]
  },
  {
   "cell_type": "code",
   "execution_count": 12,
   "metadata": {},
   "outputs": [
    {
     "name": "stdout",
     "output_type": "stream",
     "text": [
      "When Ks = 105, option price is 1.3394101799021505, std is 7.756902060535781\n",
      "When Ks = 100, option price is 3.3019503670924313, std is 8.597791729921292\n",
      "When Ks = 95, option price is 3.6357179750360764, std is 8.176635896536165\n"
     ]
    }
   ],
   "source": [
    "# Case II\n",
    "\n",
    "S0=100\n",
    "for i in range(3):\n",
    "    Ks=105-i*5\n",
    "    amec = three_halves_aemc.Three_Halves_AEMC_Model(S0, Ks, T=10,r=0.000, sigma_0=0.2, beta=1, rho=-0.9, theta=0.218, kappa=0.5, vov=1, path_num = 100, cp=1)\n",
    "    print(f'When Ks = {Ks}, option price is {amec.optionPrice_version1()[0]}, std is {amec.optionPrice_version1()[1]}')"
   ]
  },
  {
   "cell_type": "code",
   "execution_count": 11,
   "metadata": {},
   "outputs": [
    {
     "name": "stdout",
     "output_type": "stream",
     "text": [
      "When Ks = 105, option price is 0.0, std is 0.0\n",
      "When Ks = 100, option price is 0.0, std is 0.0\n",
      "When Ks = 95, option price is 1.2153008306913094e-105, std is 2.069583976018992e-99\n"
     ]
    }
   ],
   "source": [
    "# Case III\n",
    "\n",
    "S0=100\n",
    "for i in range(3):\n",
    "    Ks=105-i*5\n",
    "    amec = three_halves_aemc.Three_Halves_AEMC_Model(S0, Ks, T=0.5,r=0.000, sigma_0=0.245, beta=0, rho=-0.99, theta=0.218, kappa=18.32, vov=8.56, path_num = 100, cp=1)\n",
    "    print(f'When Ks = {Ks}, option price is {amec.optionPrice_version1()[0]}, std is {amec.optionPrice_version1()[1]}')"
   ]
  },
  {
   "cell_type": "code",
   "execution_count": 10,
   "metadata": {},
   "outputs": [
    {
     "name": "stdout",
     "output_type": "stream",
     "text": [
      "When Ks = 105, option price is 0.0, std is 0.0\n",
      "When Ks = 100, option price is 0.0, std is 0.0\n",
      "When Ks = 95, option price is 7.109825337275178e-96, std is 6.274706402388573e-81\n"
     ]
    }
   ],
   "source": [
    "# Case IV\n",
    "\n",
    "S0=100\n",
    "for i in range(3):\n",
    "    Ks=105-i*5\n",
    "    amec = three_halves_aemc.Three_Halves_AEMC_Model(S0, Ks, T=0.5,r=0.000, sigma_0=0.245, beta=0, rho=-0.99, theta=0.218, kappa=19.76, vov=3.20, path_num = 100, cp=1)\n",
    "    print(f'When Ks = {Ks}, option price is {amec.optionPrice_version1()[0]}, std is {amec.optionPrice_version1()[1]}')"
   ]
  },
  {
   "cell_type": "code",
   "execution_count": 12,
   "metadata": {},
   "outputs": [
    {
     "name": "stdout",
     "output_type": "stream",
     "text": [
      "When Ks = 105, option price is 0.0, std is 0.0\n",
      "When Ks = 100, option price is 0.0, std is 0.0\n",
      "When Ks = 95, option price is 1.5940101803481894e-109, std is 2.724515053697243e-102\n"
     ]
    }
   ],
   "source": [
    "# Case V\n",
    "\n",
    "S0=100\n",
    "for i in range(3):\n",
    "    Ks=105-i*5\n",
    "    amec = three_halves_aemc.Three_Halves_AEMC_Model(S0, Ks, T=0.5,r=0.000, sigma_0=0.245, beta=0, rho=-0.99, theta=0.218, kappa=20.48, vov=3.20, path_num = 100, cp=1)\n",
    "    print(f'When Ks = {Ks}, option price is {amec.optionPrice_version1()[0]}, std is {amec.optionPrice_version1()[1]}')"
   ]
  },
  {
   "cell_type": "code",
   "execution_count": 36,
   "metadata": {},
   "outputs": [
    {
     "data": {
      "text/plain": [
       "9.522167349987846"
      ]
     },
     "execution_count": 36,
     "metadata": {},
     "output_type": "execute_result"
    }
   ],
   "source": [
    "amec.BSM (100,95,0.0,0.5,0.245,1)"
   ]
  },
  {
   "cell_type": "code",
   "execution_count": null,
   "metadata": {},
   "outputs": [],
   "source": []
  },
  {
   "cell_type": "markdown",
   "metadata": {},
   "source": [
    "### Part 4: Analysis:\n",
    "\n",
    "Strengths:\n",
    "\n",
    "Compared with exact MC method, almost exact MC method is not that time-consuming. For exact MC method, the most time consuming step when sampling from the conditional distribution is the evaluation of the modified Bessel function of the first kind, $I_\\nu(z)$, which has to be evaluated at **complex** $\\nu$.Besides, drawing random from numerical CDF is also slow. However, for almost exact method, it supposes $V_T$ subjects to an easy and well-known distribution by matching fisrt and second moment, which saves much time.\n",
    "Compared with Conditional MC, almost exact MC method is much more accurate.\n",
    "\n",
    "Weaknesses:\n",
    "\n",
    "Almost exact MC is also time-consuming compared with conditional MC. Besides, the accuracy for calculating moment is difficult in some way. If the accuracy is low, the calcualtion error may be large in some way; while if the accuracy is high, python may not be able to calculate the first and second moment."
   ]
  }
 ],
 "metadata": {
  "kernelspec": {
   "display_name": "Python 3",
   "language": "python",
   "name": "python3"
  },
  "language_info": {
   "codemirror_mode": {
    "name": "ipython",
    "version": 3
   },
   "file_extension": ".py",
   "mimetype": "text/x-python",
   "name": "python",
   "nbconvert_exporter": "python",
   "pygments_lexer": "ipython3",
   "version": "3.7.9"
  }
 },
 "nbformat": 4,
 "nbformat_minor": 4
}
