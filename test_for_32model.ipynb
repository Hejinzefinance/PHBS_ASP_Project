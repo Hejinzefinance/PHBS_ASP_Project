{
 "cells": [
  {
   "cell_type": "markdown",
   "metadata": {},
   "source": [
    "<font size=6 face=\"微软雅黑\">**Almost Exact simulation of the 3/2 model**</font>"
   ]
  },
  {
   "cell_type": "markdown",
   "metadata": {},
   "source": [
    "Different from Baldeaux ([2012](https://doi.org/10.1142/S021902491250032X)), we use an almost exact way to calculate the option price under the 3/2 model. The dynamics of the stock price under the 3/2 model under the risk-neutral measure are given by\n",
    "\n",
    "$$\n",
    " \\frac{dS_t}{S_t} = rdt + \\sqrt{V_t}\\rho dW_t^1 + \\sqrt{V_t}\\sqrt{1-\\rho^2}dW_t^2 \\tag{1}\n",
    "$$\n",
    "\n",
    "$$\n",
    " dV_t = \\kappa V_t (\\theta - V_t)dt + \\epsilon V_t^{3/2}dW_t^1 \\tag{2}\n",
    "$$\n",
    "\n",
    "where $W_t^1$ and $W_t^2$ are independent Brownian motions. Regarding the parameters, $r$ represents the constant interest rate, $\\rho$ the instantaneous correlation between the return on the stock and the variance process and $\\epsilon$ governs the volatility of volatility. The speed of mean reversion is given by $\\kappa V_t$ and $\\theta$ denotes the long-run mean of the variance process.\n",
    "\n",
    "Defining $X_t = \\frac{1}{V_t}$, we obtain\n",
    "\n",
    "$$\n",
    "dX_t = (\\kappa + \\epsilon^2 - \\kappa\\theta X_t)dt - \\epsilon \\sqrt{X_t}dW_t^1 \\tag{3}\n",
    "$$\n",
    "\n"
   ]
  },
  {
   "cell_type": "markdown",
   "metadata": {},
   "source": [
    "# Part 1: Almost Exact MC Method:\n",
    "\n",
    "## Step 1): Simulating $X_T$\n",
    "\n",
    "$X_T$ is distributed as a noncentral $ \\chi^2 $ distribution\n",
    "\n",
    "$$\n",
    "\\frac{X_T{\\rm exp}\\lbrace \\kappa \\theta T \\rbrace}{c(T)} \\sim \\chi^2(\\delta, \\alpha)\n",
    "$$\n",
    "\n",
    "where\n",
    "$$\n",
    "\\delta = \\frac{4(\\kappa + \\epsilon^2)}{\\epsilon^2}, \\quad \\alpha = \\frac{X_0}{c(T)}, \\quad c(T) = \\frac{\\epsilon^2({\\rm exp}\\lbrace \\kappa\\theta T \\rbrace - 1)}{4\\kappa\\theta}\n",
    "$$"
   ]
  },
  {
   "cell_type": "markdown",
   "metadata": {},
   "source": [
    "## Step 2): Simulating $\\int_0^T \\frac{ds}{X_s}$ Given $X_T$\n",
    "\n",
    "Let $X_t$ be given by Eq. (3), then the Laplace transform of the conditional distribution of $\\int_0^t \\frac{ds}{X_s}|X_t$ is\n",
    "\n",
    "$$\n",
    "E\\left({\\rm exp}\\left\\lbrace -a^* \\int_0^t \\frac{ds}{X_s} \\ \\bigg| \\ X_t \\right\\rbrace \\right) = \\frac{I_{\\sqrt{\\nu^2+8a^*/\\epsilon^2}}\\left(-\\frac{2\\kappa\\theta\\sqrt{X_tX_0}}{\\epsilon^2{\\rm sinh}\\left(-\\frac{\\kappa\\theta t}{2}\\right)}\\right)}{I_{\\nu}\\left(-\\frac{2\\kappa\\theta\\sqrt{X_tX_0}}{\\epsilon^2{\\rm sinh}\\left(-\\frac{\\kappa\\theta t}{2}\\right)}\\right)}\n",
    "$$\n"
   ]
  },
  {
   "cell_type": "markdown",
   "metadata": {},
   "source": [
    "where $I_{\\nu}(z)$ denotes the modified Bessel function of the first kind, $\\delta = \\frac{4(\\kappa + \\epsilon^2)}{\\epsilon^2}$ and $\\nu = \\frac{\\delta}{2} - 1$. By setting $a^* = -ia$ we obtain the characteristic function $\\Phi(a)$\n",
    "\n",
    "The characteristic function of $\\int_0^t \\frac{ds}{X_s}|X_t$ is\n",
    "\n",
    "$$\n",
    "\\Phi(a) = E\\left({\\rm exp}\\left\\lbrace ia \\int_0^t \\frac{ds}{X_s} \\ \\bigg| \\ X_t \\right\\rbrace \\right) = \\frac{I_{\\sqrt{\\nu^2-8ia/\\epsilon^2}}\\left(-\\frac{2\\kappa\\theta\\sqrt{X_tX_0}}{\\epsilon^2{\\rm sinh}\\left(-\\frac{\\kappa\\theta t}{2}\\right)}\\right)}{I_{\\nu}\\left(-\\frac{2\\kappa\\theta\\sqrt{X_tX_0}}{\\epsilon^2{\\rm sinh}\\left(-\\frac{\\kappa\\theta t}{2}\\right)}\\right)}\n",
    "$$"
   ]
  },
  {
   "cell_type": "markdown",
   "metadata": {},
   "source": [
    "## Step 3):  Approximate the Distribution of $V_T$  $:= \\frac{1}{X_T}$\n",
    "\n",
    "Approximate $V_T$ with Log-normal distribution by matching the first and second moment $E(V_T|v_T)$, $E(V_T^2|v_T)$, and we can get\n",
    "\n",
    "$$ \\mu = M_1,    \\sigma = \\sqrt \\frac{M_2}{M_1^2}$$\n"
   ]
  },
  {
   "cell_type": "markdown",
   "metadata": {},
   "source": [
    "## Step 4):  Calculate Option Price\n",
    "\n",
    "The SDE in a de-correlated form:\n",
    "$$dS_t = \\sigma_t(\\rho dZ_t+\\sqrt{1-\\rho^2}dX_t),   with dX_tdZ_t=0.$$\n",
    "\n",
    "Randomly picking a path given $V_T$, and we can get $ \\int_0^T\\sigma_t^2dt$\n",
    "\n",
    "Under normal model ($\\beta=0$): \n",
    "\n",
    "$$S_T=S_0+\\frac{\\rho}{\\epsilon}(X_T-X_0-k\\theta T+(k+\\frac{1}{2}\\epsilon^2)\\int_0^T\\sigma_t^2dt)+\\sqrt{(1-\\rho^2)V_T}X_1$$\n",
    "\n",
    "and the option price is from the normal model:\n",
    "\n",
    "$$C_N(K,S_0:=S_0+\\frac{\\rho}{\\epsilon}(X_T-X_0-k\\theta T+(k+\\frac{1}{2}\\epsilon^2)\\int_0^T\\sigma_t^2dt, \\sigma_N := \\sqrt{(1-\\rho^2)V_T/T}  )$$\n",
    "\n",
    "Under BSM model ($\\beta=1$): \n",
    "\n",
    "$$log(\\frac{S_T}{S_0})=\\frac{\\rho}{\\epsilon}(log(\\frac{X_0}{X_T})-k(\\theta T-(1+\\frac{\\epsilon^2}{2k})V_T))-\\frac{1}{2}V_T+\\sqrt{(1-\\rho^2)V_T}X_1$$\n",
    "\n",
    "And the option price is from the BSM formula:\n",
    "\n",
    "$$C_{BS}(K,S_0e^{\\frac{\\rho}{\\epsilon}(log(\\frac{X_0}{X_T})-k(\\theta T-(1+\\frac{\\epsilon^2}{2k})V_T))-\\frac{\\rho^2}{2}I_T},\\sqrt{(1-\\rho^2)V_T/T})$$\n",
    "Furthermore, we consider three versions of almost exact MC:\n",
    "\n",
    "Version 1: Use abs() remediation on moments calculation\n",
    "\n",
    "Version 2: With $M1$ as the simulation of $U_T$\n"
   ]
  },
  {
   "cell_type": "markdown",
   "metadata": {},
   "source": [
    "# Part 2: Numerical Tests:\n",
    "\n",
    "\n",
    "Baldeaux ([2012](https://doi.org/10.1142/S021902491250032X)) chooses the following set of parameters and gives the reference option price **0.443059** (Case I)\n",
    "\n",
    "$$\n",
    "S_0 = 1, \\quad K = 1, \\quad \\kappa = 2, \\quad \\theta = 1.5, \\quad \\epsilon = 0.2,\n",
    "$$\n",
    "\n",
    "$$\n",
    "\\rho = -0.5, \\quad V_0 = 1, \\quad T = 1, \\quad r = 0.05\n",
    "$$\n",
    "\n",
    "\n",
    "|Parameters | Case I | \n",
    "|:- - - |- - - -|\n",
    "|$S_0$| 1 |\n",
    "|$K$| 1 |\n",
    "|$\\kappa$| 2 |\n",
    "|$\\theta$|1.5|\n",
    "|$\\epsilon$|0.2|\n",
    "|$\\rho$|-0.5|\n",
    "|$V_0$|1|\n",
    "|$r$|0.05|\n",
    "|$T$|1|\n",
    "|Reference option price|0.443059|\n",
    "\n",
    "\n",
    "IRO RENE KOUARFATE, MICHAEL A. KOURITZIN, AND ANNE MACKAY (2020) choose the following parameters and calculate the exact price (Case II to Case V):\n",
    "\n",
    "\n",
    "|Parameters | Case II | Case III | Case IV | Case V |\n",
    "|:- - - |- - - -|- - - -|- - - -|- - - -|\n",
    "|$$S_0$$|100|100|100|100|\n",
    "|$$\\kappa$$|22.84|18.32|19.76|20.48|\n",
    "|$$\\theta$$|0.218|0.218|0.218|0.218|\n",
    "|$$\\epsilon$$|8.56|8.56|3.20|3.20|\n",
    "|$$\\rho$$|-0.99|-0.99|-0.99|-0.99|\n",
    "|$$V_0$$|0.06|0.06|0.06|0.06|\n",
    "|$$r$$|0.00|0.00|0.00|0.00|\n",
    "|$$T$$|0.5|0.5|0.5|0.5|\n",
    "\n",
    "The exact prices of European call options under different $K$ will be as following:\n",
    "\n",
    "|$$K/S_0$$| Case II | Case III | Case IV | Case V |\n",
    "|:- - - |- - - -|- - - -|- - - -|- - - -|\n",
    "|0.95|10.364|10.055|11.657|11.724|\n",
    "|1|7.386|7.042|8.926|8.999|\n",
    "|1.05|4.938|4.586|6.636|6.710|\n"
   ]
  },
  {
   "cell_type": "code",
   "execution_count": 1,
   "metadata": {},
   "outputs": [
    {
     "data": {
      "text/plain": [
       "<module 'pyfeng' from 'D:/我的文档/在校用的/20212/ASP/Final_Project/PyFeng\\\\pyfeng\\\\__init__.py'>"
      ]
     },
     "execution_count": 1,
     "metadata": {},
     "output_type": "execute_result"
    }
   ],
   "source": [
    "import sys, os\n",
    "sys.path.insert(0, 'E:\\研究生课程\\研二下学期\\应用随机过程\\Finalproject\\local\\PyFENG')\n",
    "sys.path.insert(0, 'D:/我的文档/在校用的/20212/ASP/Final_Project/PyFeng')\n",
    "import pyfeng as pf\n",
    "pf"
   ]
  },
  {
   "cell_type": "code",
   "execution_count": 2,
   "metadata": {
    "scrolled": false
   },
   "outputs": [],
   "source": [
    "import numpy as np\n",
    "import pandas as pd \n",
    "import matplotlib.pyplot as plt\n",
    "import numpy as np\n",
    "from mpl_toolkits.mplot3d import Axes3D"
   ]
  },
  {
   "cell_type": "markdown",
   "metadata": {},
   "source": [
    "## Case-I"
   ]
  },
  {
   "cell_type": "markdown",
   "metadata": {},
   "source": [
    "|Parameters | Case I | \n",
    "|:- - - |- - - -|\n",
    "|$S_0$| 1 |\n",
    "|$K$| 1 |\n",
    "|$\\kappa$| 2 |\n",
    "|$\\theta$|1.5|\n",
    "|$\\epsilon$|0.2|\n",
    "|$\\rho$|-0.5|\n",
    "|$V_0$|1|\n",
    "|$r$|0.05|\n",
    "|$T$|1|\n",
    "|Reference option price|0.443059|"
   ]
  },
  {
   "cell_type": "code",
   "execution_count": 5,
   "metadata": {},
   "outputs": [],
   "source": [
    "aemc = pf.Sv32McAe(S0=1, Ks=1, T=1,r=0.05, sigma_0=1, beta=1, rho=-0.5, theta=1.5, kappa=2, vov=0.2, path_num = 1000, cp=1)\n",
    "output1 = aemc.optionPrice_version1()\n",
    "output2 = aemc.optionPrice_version2()"
   ]
  },
  {
   "cell_type": "code",
   "execution_count": 6,
   "metadata": {},
   "outputs": [
    {
     "name": "stdout",
     "output_type": "stream",
     "text": [
      "In version_1, the mean of prices is 54.62813808210951, and the std of prices is 100.5603275472029\n",
      "In version_2, the mean of prices is 0.373398703526084, and the std of prices is 0.3393765854428757\n",
      "In BSM model, the price is 0.3657525029715331\n"
     ]
    }
   ],
   "source": [
    "print('In version_1, the mean of prices is {}, and the std of prices is {}'.format(output1[0][0],output1[1][0]))\n",
    "print('In version_2, the mean of prices is {}, and the std of prices is {}'.format(output2[0][0],output2[1][0]))\n",
    "print('In BSM model, the price is {}'.format(aemc.BSM(S0=1, Ks=1, T=1,r=0.05, sigma=1,cp=1)))"
   ]
  },
  {
   "cell_type": "markdown",
   "metadata": {},
   "source": [
    "We can see that following the Almost Exact MC exactly in this occasion comes to a very odd result. While with the method we innovated on, the outcome is much more reasonable."
   ]
  },
  {
   "cell_type": "markdown",
   "metadata": {},
   "source": [
    "## Case-II"
   ]
  },
  {
   "cell_type": "markdown",
   "metadata": {},
   "source": [
    "|Parameters | Case II |\n",
    "|:- - - |- - - -|\n",
    "|$$S_0$$|100|\n",
    "|$$\\kappa$$|22.84|\n",
    "|$$\\theta$$|0.218|\n",
    "|$$\\epsilon$$|8.56|\n",
    "|$$\\rho$$|-0.99|\n",
    "|$$V_0$$|0.06|\n",
    "|$$r$$|0.00|\n",
    "|$$T$$|0.5|"
   ]
  },
  {
   "cell_type": "code",
   "execution_count": 7,
   "metadata": {},
   "outputs": [],
   "source": [
    "S0=100\n",
    "Ks = np.array([95,100,105])\n",
    "aemc = pf.Sv32McAe(S0, Ks, T=1,r=0.000, sigma_0=0.245, beta=1, rho=-0.99, theta=0.218, kappa=22.84, vov=8.56, path_num = 1000, cp=1)\n",
    "output1 = aemc.optionPrice_version1()\n",
    "output2 = aemc.optionPrice_version2()"
   ]
  },
  {
   "cell_type": "code",
   "execution_count": 8,
   "metadata": {},
   "outputs": [],
   "source": [
    "output3 = aemc.BSM(S0, Ks, T=1,r=0.0, sigma=0.245,cp=1)"
   ]
  },
  {
   "cell_type": "code",
   "execution_count": 9,
   "metadata": {
    "scrolled": true
   },
   "outputs": [
    {
     "data": {
      "text/html": [
       "<div>\n",
       "<style scoped>\n",
       "    .dataframe tbody tr th:only-of-type {\n",
       "        vertical-align: middle;\n",
       "    }\n",
       "\n",
       "    .dataframe tbody tr th {\n",
       "        vertical-align: top;\n",
       "    }\n",
       "\n",
       "    .dataframe thead th {\n",
       "        text-align: right;\n",
       "    }\n",
       "</style>\n",
       "<table border=\"1\" class=\"dataframe\">\n",
       "  <thead>\n",
       "    <tr style=\"text-align: right;\">\n",
       "      <th></th>\n",
       "      <th>Price_mean</th>\n",
       "      <th>Price_std</th>\n",
       "    </tr>\n",
       "  </thead>\n",
       "  <tbody>\n",
       "    <tr>\n",
       "      <th>K=95</th>\n",
       "      <td>0.0</td>\n",
       "      <td>0.0</td>\n",
       "    </tr>\n",
       "    <tr>\n",
       "      <th>K=100</th>\n",
       "      <td>0.0</td>\n",
       "      <td>0.0</td>\n",
       "    </tr>\n",
       "    <tr>\n",
       "      <th>K=105</th>\n",
       "      <td>0.0</td>\n",
       "      <td>0.0</td>\n",
       "    </tr>\n",
       "  </tbody>\n",
       "</table>\n",
       "</div>"
      ],
      "text/plain": [
       "       Price_mean  Price_std\n",
       "K=95          0.0        0.0\n",
       "K=100         0.0        0.0\n",
       "K=105         0.0        0.0"
      ]
     },
     "execution_count": 9,
     "metadata": {},
     "output_type": "execute_result"
    }
   ],
   "source": [
    "pd.DataFrame(output1, index = ['Price_mean','Price_std'], columns=['K={}'.format(K) for K in Ks]).T"
   ]
  },
  {
   "cell_type": "code",
   "execution_count": 10,
   "metadata": {
    "scrolled": true
   },
   "outputs": [
    {
     "data": {
      "text/html": [
       "<div>\n",
       "<style scoped>\n",
       "    .dataframe tbody tr th:only-of-type {\n",
       "        vertical-align: middle;\n",
       "    }\n",
       "\n",
       "    .dataframe tbody tr th {\n",
       "        vertical-align: top;\n",
       "    }\n",
       "\n",
       "    .dataframe thead th {\n",
       "        text-align: right;\n",
       "    }\n",
       "</style>\n",
       "<table border=\"1\" class=\"dataframe\">\n",
       "  <thead>\n",
       "    <tr style=\"text-align: right;\">\n",
       "      <th></th>\n",
       "      <th>Price_mean</th>\n",
       "      <th>Price_std</th>\n",
       "    </tr>\n",
       "  </thead>\n",
       "  <tbody>\n",
       "    <tr>\n",
       "      <th>K=95</th>\n",
       "      <td>7.912381</td>\n",
       "      <td>9.750443</td>\n",
       "    </tr>\n",
       "    <tr>\n",
       "      <th>K=100</th>\n",
       "      <td>5.362149</td>\n",
       "      <td>8.057288</td>\n",
       "    </tr>\n",
       "    <tr>\n",
       "      <th>K=105</th>\n",
       "      <td>3.405391</td>\n",
       "      <td>6.380787</td>\n",
       "    </tr>\n",
       "  </tbody>\n",
       "</table>\n",
       "</div>"
      ],
      "text/plain": [
       "       Price_mean  Price_std\n",
       "K=95     7.912381   9.750443\n",
       "K=100    5.362149   8.057288\n",
       "K=105    3.405391   6.380787"
      ]
     },
     "execution_count": 10,
     "metadata": {},
     "output_type": "execute_result"
    }
   ],
   "source": [
    "pd.DataFrame(output2, index = ['Price_mean','Price_std'], columns=['K={}'.format(K) for K in Ks]).T"
   ]
  },
  {
   "cell_type": "code",
   "execution_count": 11,
   "metadata": {},
   "outputs": [
    {
     "data": {
      "text/html": [
       "<div>\n",
       "<style scoped>\n",
       "    .dataframe tbody tr th:only-of-type {\n",
       "        vertical-align: middle;\n",
       "    }\n",
       "\n",
       "    .dataframe tbody tr th {\n",
       "        vertical-align: top;\n",
       "    }\n",
       "\n",
       "    .dataframe thead th {\n",
       "        text-align: right;\n",
       "    }\n",
       "</style>\n",
       "<table border=\"1\" class=\"dataframe\">\n",
       "  <thead>\n",
       "    <tr style=\"text-align: right;\">\n",
       "      <th></th>\n",
       "      <th>BSM_price</th>\n",
       "    </tr>\n",
       "  </thead>\n",
       "  <tbody>\n",
       "    <tr>\n",
       "      <th>K=95</th>\n",
       "      <td>12.212434</td>\n",
       "    </tr>\n",
       "    <tr>\n",
       "      <th>K=100</th>\n",
       "      <td>9.749695</td>\n",
       "    </tr>\n",
       "    <tr>\n",
       "      <th>K=105</th>\n",
       "      <td>7.689911</td>\n",
       "    </tr>\n",
       "  </tbody>\n",
       "</table>\n",
       "</div>"
      ],
      "text/plain": [
       "       BSM_price\n",
       "K=95   12.212434\n",
       "K=100   9.749695\n",
       "K=105   7.689911"
      ]
     },
     "execution_count": 11,
     "metadata": {},
     "output_type": "execute_result"
    }
   ],
   "source": [
    "pd.DataFrame(output3, index=['K={}'.format(K) for K in Ks], columns = ['BSM_price'])"
   ]
  },
  {
   "cell_type": "markdown",
   "metadata": {},
   "source": [
    "|$$K/S_0$$| Case II |\n",
    "|:- - - |- - - -|\n",
    "|0.95|10.364|\n",
    "|1|7.386|\n",
    "|1.05|4.938|"
   ]
  },
  {
   "cell_type": "markdown",
   "metadata": {},
   "source": [
    "Implied Volatility Surface"
   ]
  },
  {
   "cell_type": "code",
   "execution_count": 12,
   "metadata": {
    "scrolled": false
   },
   "outputs": [
    {
     "data": {
      "image/png": "[encoded data removed]",
      "text/plain": [
       "<Figure size 864x576 with 1 Axes>"
      ]
     },
     "metadata": {
      "needs_background": "light"
     },
     "output_type": "display_data"
    }
   ],
   "source": [
    "S0 = 100\n",
    "Ks = np.linspace(80, 120, num=50, endpoint=True, retstep=False, dtype=None)\n",
    "T = np.linspace(1, 10, num=20, endpoint=True, retstep=False, dtype=None)\n",
    "Z = np.zeros([len(T),len(Ks)])\n",
    "for idx,t in enumerate(T):\n",
    "    aemc = pf.Sv32McAe(S0, Ks, t ,r=0.05, sigma_0=1, beta=1, rho=-0.5, theta=1.5, kappa=2, vov=0.2, path_num = 100, cp=1)\n",
    "    aemc.optionPrice_version2()\n",
    "    Z[idx,:] = aemc.impliedVolatility1()\n",
    "\n",
    "fig = plt.figure(figsize=(12, 8))\n",
    "ax = Axes3D(fig)\n",
    "delta = 0.5\n",
    "# 对x、y数据执行网格化\n",
    "X, Y = np.meshgrid(Ks,T)\n",
    "\n",
    "# 绘制3D图形\n",
    "ax.plot_surface(X, Y, Z,\n",
    "    rstride=1,  # rstride（row）指定行的跨度\n",
    "    cstride=1,  # cstride(column)指定列的跨度\n",
    "    cmap=plt.get_cmap('rainbow'))  # 设置颜色映射\n",
    "# 设置Z轴范围\n",
    "# ax.set_zlim(-2, 2)\n",
    "# 设置标题\n",
    "plt.title(\"volatility\")\n",
    "plt.show()"
   ]
  },
  {
   "cell_type": "markdown",
   "metadata": {},
   "source": [
    "## Case-III"
   ]
  },
  {
   "cell_type": "markdown",
   "metadata": {},
   "source": [
    "|Parameters | Case III |\n",
    "|:- - - |- - - -|\n",
    "|$$S_0$$|100|\n",
    "|$$\\kappa$$|18.32|\n",
    "|$$\\theta$$|0.218|\n",
    "|$$\\epsilon$$|8.56|\n",
    "|$$\\rho$$|-0.99|\n",
    "|$$V_0$$|0.06|\n",
    "|$$r$$|0.00|\n",
    "|$$T$$|0.5|"
   ]
  },
  {
   "cell_type": "code",
   "execution_count": 13,
   "metadata": {},
   "outputs": [],
   "source": [
    "S0 = 100\n",
    "Ks = np.array([95,100,105])\n",
    "aemc = pf.Sv32McAe(S0, Ks, T=0.5,r=0.000, sigma_0=0.245, beta=0, rho=-0.99, theta=0.218, kappa=18.32, vov=8.56, path_num = 1000, cp=1)\n",
    "output1 = aemc.optionPrice_version1()\n",
    "output2 = aemc.optionPrice_version2()\n",
    "output3 = aemc.Bachelier(S0, Ks, T=0.5,r=0.000, sigma=0.245,cp=1)"
   ]
  },
  {
   "cell_type": "code",
   "execution_count": 14,
   "metadata": {
    "scrolled": false
   },
   "outputs": [
    {
     "data": {
      "text/html": [
       "<div>\n",
       "<style scoped>\n",
       "    .dataframe tbody tr th:only-of-type {\n",
       "        vertical-align: middle;\n",
       "    }\n",
       "\n",
       "    .dataframe tbody tr th {\n",
       "        vertical-align: top;\n",
       "    }\n",
       "\n",
       "    .dataframe thead th {\n",
       "        text-align: right;\n",
       "    }\n",
       "</style>\n",
       "<table border=\"1\" class=\"dataframe\">\n",
       "  <thead>\n",
       "    <tr style=\"text-align: right;\">\n",
       "      <th></th>\n",
       "      <th>Price_mean</th>\n",
       "      <th>Price_std</th>\n",
       "    </tr>\n",
       "  </thead>\n",
       "  <tbody>\n",
       "    <tr>\n",
       "      <th>K=95</th>\n",
       "      <td>4.798651e-93</td>\n",
       "      <td>1.513158e-91</td>\n",
       "    </tr>\n",
       "    <tr>\n",
       "      <th>K=100</th>\n",
       "      <td>0.000000e+00</td>\n",
       "      <td>0.000000e+00</td>\n",
       "    </tr>\n",
       "    <tr>\n",
       "      <th>K=105</th>\n",
       "      <td>0.000000e+00</td>\n",
       "      <td>0.000000e+00</td>\n",
       "    </tr>\n",
       "  </tbody>\n",
       "</table>\n",
       "</div>"
      ],
      "text/plain": [
       "         Price_mean     Price_std\n",
       "K=95   4.798651e-93  1.513158e-91\n",
       "K=100  0.000000e+00  0.000000e+00\n",
       "K=105  0.000000e+00  0.000000e+00"
      ]
     },
     "execution_count": 14,
     "metadata": {},
     "output_type": "execute_result"
    }
   ],
   "source": [
    "pd.DataFrame(output1, index = ['Price_mean','Price_std'], columns=['K={}'.format(K) for K in Ks]).T"
   ]
  },
  {
   "cell_type": "code",
   "execution_count": 15,
   "metadata": {
    "scrolled": false
   },
   "outputs": [
    {
     "data": {
      "text/html": [
       "<div>\n",
       "<style scoped>\n",
       "    .dataframe tbody tr th:only-of-type {\n",
       "        vertical-align: middle;\n",
       "    }\n",
       "\n",
       "    .dataframe tbody tr th {\n",
       "        vertical-align: top;\n",
       "    }\n",
       "\n",
       "    .dataframe thead th {\n",
       "        text-align: right;\n",
       "    }\n",
       "</style>\n",
       "<table border=\"1\" class=\"dataframe\">\n",
       "  <thead>\n",
       "    <tr style=\"text-align: right;\">\n",
       "      <th></th>\n",
       "      <th>Price_mean</th>\n",
       "      <th>Price_std</th>\n",
       "    </tr>\n",
       "  </thead>\n",
       "  <tbody>\n",
       "    <tr>\n",
       "      <th>K=95</th>\n",
       "      <td>5.000082</td>\n",
       "      <td>0.148346</td>\n",
       "    </tr>\n",
       "    <tr>\n",
       "      <th>K=100</th>\n",
       "      <td>0.060410</td>\n",
       "      <td>0.075467</td>\n",
       "    </tr>\n",
       "    <tr>\n",
       "      <th>K=105</th>\n",
       "      <td>0.000000</td>\n",
       "      <td>0.000000</td>\n",
       "    </tr>\n",
       "  </tbody>\n",
       "</table>\n",
       "</div>"
      ],
      "text/plain": [
       "       Price_mean  Price_std\n",
       "K=95     5.000082   0.148346\n",
       "K=100    0.060410   0.075467\n",
       "K=105    0.000000   0.000000"
      ]
     },
     "execution_count": 15,
     "metadata": {},
     "output_type": "execute_result"
    }
   ],
   "source": [
    "pd.DataFrame(output2, index = ['Price_mean','Price_std'], columns=['K={}'.format(K) for K in Ks]).T"
   ]
  },
  {
   "cell_type": "code",
   "execution_count": 16,
   "metadata": {},
   "outputs": [
    {
     "data": {
      "text/html": [
       "<div>\n",
       "<style scoped>\n",
       "    .dataframe tbody tr th:only-of-type {\n",
       "        vertical-align: middle;\n",
       "    }\n",
       "\n",
       "    .dataframe tbody tr th {\n",
       "        vertical-align: top;\n",
       "    }\n",
       "\n",
       "    .dataframe thead th {\n",
       "        text-align: right;\n",
       "    }\n",
       "</style>\n",
       "<table border=\"1\" class=\"dataframe\">\n",
       "  <thead>\n",
       "    <tr style=\"text-align: right;\">\n",
       "      <th></th>\n",
       "      <th>Bachelier_price</th>\n",
       "    </tr>\n",
       "  </thead>\n",
       "  <tbody>\n",
       "    <tr>\n",
       "      <th>K=95</th>\n",
       "      <td>5.000000e+00</td>\n",
       "    </tr>\n",
       "    <tr>\n",
       "      <th>K=100</th>\n",
       "      <td>6.911322e-02</td>\n",
       "    </tr>\n",
       "    <tr>\n",
       "      <th>K=105</th>\n",
       "      <td>1.088174e-185</td>\n",
       "    </tr>\n",
       "  </tbody>\n",
       "</table>\n",
       "</div>"
      ],
      "text/plain": [
       "       Bachelier_price\n",
       "K=95      5.000000e+00\n",
       "K=100     6.911322e-02\n",
       "K=105    1.088174e-185"
      ]
     },
     "execution_count": 16,
     "metadata": {},
     "output_type": "execute_result"
    }
   ],
   "source": [
    "pd.DataFrame(output3, index=['K={}'.format(K) for K in Ks], columns = ['Bachelier_price'])"
   ]
  },
  {
   "cell_type": "markdown",
   "metadata": {},
   "source": [
    "|$$K/S_0$$| Case III |\n",
    "|:- - - |- - - -|\n",
    "|0.95|10.055|\n",
    "|1|7.042|\n",
    "|1.05|4.586|"
   ]
  },
  {
   "cell_type": "code",
   "execution_count": 17,
   "metadata": {},
   "outputs": [
    {
     "ename": "ValueError",
     "evalue": "f(a) and f(b) must have different signs",
     "output_type": "error",
     "traceback": [
      "\u001b[1;31m---------------------------------------------------------------------------\u001b[0m",
      "\u001b[1;31mValueError\u001b[0m                                Traceback (most recent call last)",
      "\u001b[1;32m<ipython-input-17-24141bf51fe5>\u001b[0m in \u001b[0;36m<module>\u001b[1;34m\u001b[0m\n\u001b[0;32m      6\u001b[0m     \u001b[0maemc\u001b[0m \u001b[1;33m=\u001b[0m \u001b[0mpf\u001b[0m\u001b[1;33m.\u001b[0m\u001b[0mSv32McAe\u001b[0m\u001b[1;33m(\u001b[0m\u001b[0mS0\u001b[0m\u001b[1;33m,\u001b[0m \u001b[0mKs\u001b[0m\u001b[1;33m,\u001b[0m \u001b[0mT\u001b[0m\u001b[1;33m=\u001b[0m\u001b[0mt\u001b[0m\u001b[1;33m,\u001b[0m\u001b[0mr\u001b[0m\u001b[1;33m=\u001b[0m\u001b[1;36m0.000\u001b[0m\u001b[1;33m,\u001b[0m \u001b[0msigma_0\u001b[0m\u001b[1;33m=\u001b[0m\u001b[1;36m0.245\u001b[0m\u001b[1;33m,\u001b[0m \u001b[0mbeta\u001b[0m\u001b[1;33m=\u001b[0m\u001b[1;36m0\u001b[0m\u001b[1;33m,\u001b[0m \u001b[0mrho\u001b[0m\u001b[1;33m=\u001b[0m\u001b[1;33m-\u001b[0m\u001b[1;36m0.99\u001b[0m\u001b[1;33m,\u001b[0m \u001b[0mtheta\u001b[0m\u001b[1;33m=\u001b[0m\u001b[1;36m0.218\u001b[0m\u001b[1;33m,\u001b[0m \u001b[0mkappa\u001b[0m\u001b[1;33m=\u001b[0m\u001b[1;36m18.32\u001b[0m\u001b[1;33m,\u001b[0m \u001b[0mvov\u001b[0m\u001b[1;33m=\u001b[0m\u001b[1;36m8.56\u001b[0m\u001b[1;33m,\u001b[0m \u001b[0mpath_num\u001b[0m \u001b[1;33m=\u001b[0m \u001b[1;36m100\u001b[0m\u001b[1;33m,\u001b[0m \u001b[0mcp\u001b[0m\u001b[1;33m=\u001b[0m\u001b[1;36m1\u001b[0m\u001b[1;33m)\u001b[0m\u001b[1;33m\u001b[0m\u001b[1;33m\u001b[0m\u001b[0m\n\u001b[0;32m      7\u001b[0m     \u001b[0maemc\u001b[0m\u001b[1;33m.\u001b[0m\u001b[0moptionPrice_version2\u001b[0m\u001b[1;33m(\u001b[0m\u001b[1;33m)\u001b[0m\u001b[1;33m\u001b[0m\u001b[1;33m\u001b[0m\u001b[0m\n\u001b[1;32m----> 8\u001b[1;33m     \u001b[0mZ\u001b[0m\u001b[1;33m[\u001b[0m\u001b[0midx\u001b[0m\u001b[1;33m,\u001b[0m\u001b[1;33m:\u001b[0m\u001b[1;33m]\u001b[0m \u001b[1;33m=\u001b[0m \u001b[0maemc\u001b[0m\u001b[1;33m.\u001b[0m\u001b[0mimpliedVolatility1\u001b[0m\u001b[1;33m(\u001b[0m\u001b[1;33m)\u001b[0m\u001b[1;33m\u001b[0m\u001b[1;33m\u001b[0m\u001b[0m\n\u001b[0m\u001b[0;32m      9\u001b[0m \u001b[1;33m\u001b[0m\u001b[0m\n\u001b[0;32m     10\u001b[0m \u001b[0mfig\u001b[0m \u001b[1;33m=\u001b[0m \u001b[0mplt\u001b[0m\u001b[1;33m.\u001b[0m\u001b[0mfigure\u001b[0m\u001b[1;33m(\u001b[0m\u001b[0mfigsize\u001b[0m\u001b[1;33m=\u001b[0m\u001b[1;33m(\u001b[0m\u001b[1;36m12\u001b[0m\u001b[1;33m,\u001b[0m \u001b[1;36m8\u001b[0m\u001b[1;33m)\u001b[0m\u001b[1;33m)\u001b[0m\u001b[1;33m\u001b[0m\u001b[1;33m\u001b[0m\u001b[0m\n",
      "\u001b[1;32mD:/我的文档/在校用的/20212/ASP/Final_Project/PyFeng\\pyfeng\\sv32McAe.py\u001b[0m in \u001b[0;36mimpliedVolatility1\u001b[1;34m(self)\u001b[0m\n\u001b[0;32m    206\u001b[0m         \u001b[1;32melse\u001b[0m\u001b[1;33m:\u001b[0m\u001b[1;33m\u001b[0m\u001b[1;33m\u001b[0m\u001b[0m\n\u001b[0;32m    207\u001b[0m             \u001b[1;32mfor\u001b[0m \u001b[0mk\u001b[0m\u001b[1;33m,\u001b[0m \u001b[0mp\u001b[0m \u001b[1;32min\u001b[0m \u001b[0mzip\u001b[0m\u001b[1;33m(\u001b[0m\u001b[0mself\u001b[0m\u001b[1;33m.\u001b[0m\u001b[0mKs\u001b[0m\u001b[1;33m.\u001b[0m\u001b[0mravel\u001b[0m\u001b[1;33m(\u001b[0m\u001b[1;33m)\u001b[0m\u001b[1;33m,\u001b[0m \u001b[0mself\u001b[0m\u001b[1;33m.\u001b[0m\u001b[0moption_prices\u001b[0m\u001b[1;33m.\u001b[0m\u001b[0mravel\u001b[0m\u001b[1;33m(\u001b[0m\u001b[1;33m)\u001b[0m\u001b[1;33m)\u001b[0m\u001b[1;33m:\u001b[0m\u001b[1;33m\u001b[0m\u001b[1;33m\u001b[0m\u001b[0m\n\u001b[1;32m--> 208\u001b[1;33m                 \u001b[0moutput\u001b[0m\u001b[1;33m.\u001b[0m\u001b[0mappend\u001b[0m\u001b[1;33m(\u001b[0m\u001b[0mself\u001b[0m\u001b[1;33m.\u001b[0m\u001b[0mimp_vol_for_normal\u001b[0m\u001b[1;33m(\u001b[0m\u001b[0mk\u001b[0m\u001b[1;33m,\u001b[0m \u001b[0mp\u001b[0m\u001b[1;33m)\u001b[0m\u001b[1;33m)\u001b[0m\u001b[1;33m\u001b[0m\u001b[1;33m\u001b[0m\u001b[0m\n\u001b[0m\u001b[0;32m    209\u001b[0m         \u001b[1;32mreturn\u001b[0m \u001b[0mnp\u001b[0m\u001b[1;33m.\u001b[0m\u001b[0marray\u001b[0m\u001b[1;33m(\u001b[0m\u001b[0moutput\u001b[0m\u001b[1;33m)\u001b[0m\u001b[1;33m\u001b[0m\u001b[1;33m\u001b[0m\u001b[0m\n\u001b[0;32m    210\u001b[0m \u001b[1;33m\u001b[0m\u001b[0m\n",
      "\u001b[1;32mD:/我的文档/在校用的/20212/ASP/Final_Project/PyFeng\\pyfeng\\sv32McAe.py\u001b[0m in \u001b[0;36mimp_vol_for_normal\u001b[1;34m(self, K, price)\u001b[0m\n\u001b[0;32m    196\u001b[0m         \u001b[0miv_func\u001b[0m \u001b[1;33m=\u001b[0m \u001b[1;32mlambda\u001b[0m \u001b[0m_vol\u001b[0m\u001b[1;33m:\u001b[0m\u001b[0;31m \u001b[0m\u001b[0;31m\\\u001b[0m\u001b[1;33m\u001b[0m\u001b[1;33m\u001b[0m\u001b[0m\n\u001b[0;32m    197\u001b[0m             \u001b[0mself\u001b[0m\u001b[1;33m.\u001b[0m\u001b[0mBachelier\u001b[0m\u001b[1;33m(\u001b[0m\u001b[0mself\u001b[0m\u001b[1;33m.\u001b[0m\u001b[0mS0\u001b[0m\u001b[1;33m,\u001b[0m \u001b[0mK\u001b[0m\u001b[1;33m,\u001b[0m \u001b[0mself\u001b[0m\u001b[1;33m.\u001b[0m\u001b[0mr\u001b[0m\u001b[1;33m,\u001b[0m \u001b[0mself\u001b[0m\u001b[1;33m.\u001b[0m\u001b[0mT\u001b[0m\u001b[1;33m,\u001b[0m \u001b[0m_vol\u001b[0m\u001b[1;33m,\u001b[0m \u001b[0mself\u001b[0m\u001b[1;33m.\u001b[0m\u001b[0mcp\u001b[0m\u001b[1;33m)\u001b[0m \u001b[1;33m-\u001b[0m \u001b[0mprice\u001b[0m\u001b[1;33m\u001b[0m\u001b[1;33m\u001b[0m\u001b[0m\n\u001b[1;32m--> 198\u001b[1;33m         \u001b[0mvol\u001b[0m \u001b[1;33m=\u001b[0m \u001b[0msopt\u001b[0m\u001b[1;33m.\u001b[0m\u001b[0mbrentq\u001b[0m\u001b[1;33m(\u001b[0m\u001b[0miv_func\u001b[0m\u001b[1;33m,\u001b[0m \u001b[1;36m0\u001b[0m\u001b[1;33m,\u001b[0m \u001b[1;36m10000\u001b[0m\u001b[1;33m)\u001b[0m\u001b[1;33m\u001b[0m\u001b[1;33m\u001b[0m\u001b[0m\n\u001b[0m\u001b[0;32m    199\u001b[0m         \u001b[1;32mreturn\u001b[0m \u001b[0mvol\u001b[0m\u001b[1;33m\u001b[0m\u001b[1;33m\u001b[0m\u001b[0m\n\u001b[0;32m    200\u001b[0m \u001b[1;33m\u001b[0m\u001b[0m\n",
      "\u001b[1;32mD:\\Applications\\Anaconda3\\lib\\site-packages\\scipy\\optimize\\zeros.py\u001b[0m in \u001b[0;36mbrentq\u001b[1;34m(f, a, b, args, xtol, rtol, maxiter, full_output, disp)\u001b[0m\n\u001b[0;32m    774\u001b[0m     \u001b[1;32mif\u001b[0m \u001b[0mrtol\u001b[0m \u001b[1;33m<\u001b[0m \u001b[0m_rtol\u001b[0m\u001b[1;33m:\u001b[0m\u001b[1;33m\u001b[0m\u001b[1;33m\u001b[0m\u001b[0m\n\u001b[0;32m    775\u001b[0m         \u001b[1;32mraise\u001b[0m \u001b[0mValueError\u001b[0m\u001b[1;33m(\u001b[0m\u001b[1;34m\"rtol too small (%g < %g)\"\u001b[0m \u001b[1;33m%\u001b[0m \u001b[1;33m(\u001b[0m\u001b[0mrtol\u001b[0m\u001b[1;33m,\u001b[0m \u001b[0m_rtol\u001b[0m\u001b[1;33m)\u001b[0m\u001b[1;33m)\u001b[0m\u001b[1;33m\u001b[0m\u001b[1;33m\u001b[0m\u001b[0m\n\u001b[1;32m--> 776\u001b[1;33m     \u001b[0mr\u001b[0m \u001b[1;33m=\u001b[0m \u001b[0m_zeros\u001b[0m\u001b[1;33m.\u001b[0m\u001b[0m_brentq\u001b[0m\u001b[1;33m(\u001b[0m\u001b[0mf\u001b[0m\u001b[1;33m,\u001b[0m \u001b[0ma\u001b[0m\u001b[1;33m,\u001b[0m \u001b[0mb\u001b[0m\u001b[1;33m,\u001b[0m \u001b[0mxtol\u001b[0m\u001b[1;33m,\u001b[0m \u001b[0mrtol\u001b[0m\u001b[1;33m,\u001b[0m \u001b[0mmaxiter\u001b[0m\u001b[1;33m,\u001b[0m \u001b[0margs\u001b[0m\u001b[1;33m,\u001b[0m \u001b[0mfull_output\u001b[0m\u001b[1;33m,\u001b[0m \u001b[0mdisp\u001b[0m\u001b[1;33m)\u001b[0m\u001b[1;33m\u001b[0m\u001b[1;33m\u001b[0m\u001b[0m\n\u001b[0m\u001b[0;32m    777\u001b[0m     \u001b[1;32mreturn\u001b[0m \u001b[0mresults_c\u001b[0m\u001b[1;33m(\u001b[0m\u001b[0mfull_output\u001b[0m\u001b[1;33m,\u001b[0m \u001b[0mr\u001b[0m\u001b[1;33m)\u001b[0m\u001b[1;33m\u001b[0m\u001b[1;33m\u001b[0m\u001b[0m\n\u001b[0;32m    778\u001b[0m \u001b[1;33m\u001b[0m\u001b[0m\n",
      "\u001b[1;31mValueError\u001b[0m: f(a) and f(b) must have different signs"
     ]
    }
   ],
   "source": [
    "S0=100\n",
    "Ks=np.linspace(80, 120, num=50, endpoint=True, retstep=False, dtype=None)\n",
    "T=np.linspace(1, 10, num=20, endpoint=True, retstep=False, dtype=None)\n",
    "Z = np.zeros([len(T),len(Ks)])\n",
    "for idx,t in enumerate(T):\n",
    "    aemc = pf.Sv32McAe(S0, Ks, T=t,r=0.000, sigma_0=0.245, beta=0, rho=-0.99, theta=0.218, kappa=18.32, vov=8.56, path_num = 100, cp=1)\n",
    "    aemc.optionPrice_version2()\n",
    "    Z[idx,:] = aemc.impliedVolatility1()\n",
    "\n",
    "fig = plt.figure(figsize=(12, 8))\n",
    "ax = Axes3D(fig)\n",
    "delta = 0.5\n",
    "# 对x、y数据执行网格化\n",
    "X, Y = np.meshgrid(Ks,T)\n",
    "\n",
    "# 绘制3D图形\n",
    "ax.plot_surface(X, Y, Z,\n",
    "    rstride=1,  # rstride（row）指定行的跨度\n",
    "    cstride=1,  # cstride(column)指定列的跨度\n",
    "    cmap=plt.get_cmap('rainbow'))  # 设置颜色映射\n",
    "# 设置Z轴范围\n",
    "# ax.set_zlim(-2, 2)\n",
    "# 设置标题\n",
    "plt.title(\"volatility\")\n",
    "plt.show()"
   ]
  },
  {
   "cell_type": "markdown",
   "metadata": {},
   "source": [
    "## Case-IV"
   ]
  },
  {
   "cell_type": "markdown",
   "metadata": {},
   "source": [
    "|Parameters | Case IV |\n",
    "|:- - - |- - - -|\n",
    "|$$S_0$$|100|\n",
    "|$$\\kappa$$|19.76|\n",
    "|$$\\theta$$|0.218|\n",
    "|$$\\epsilon$$|3.20|\n",
    "|$$\\rho$$|-0.99|\n",
    "|$$V_0$$|0.06|\n",
    "|$$r$$|0.00|\n",
    "|$$T$$|0.5|"
   ]
  },
  {
   "cell_type": "code",
   "execution_count": 18,
   "metadata": {},
   "outputs": [],
   "source": [
    "S0=100\n",
    "Ks = np.array([95,100,105])\n",
    "aemc = pf.Sv32McAe(S0, Ks, T=0.5,r=0.000, sigma_0=0.245, beta=0, rho=-0.99, theta=0.218, kappa=19.76, vov=3.20, path_num = 1000, cp=1)\n",
    "output1 = aemc.optionPrice_version1()\n",
    "output2 = aemc.optionPrice_version2()\n",
    "output3 = aemc.Bachelier(S0, Ks, T=0.5,r=0.000, sigma=0.245,cp=1)"
   ]
  },
  {
   "cell_type": "code",
   "execution_count": 19,
   "metadata": {
    "scrolled": false
   },
   "outputs": [
    {
     "data": {
      "text/html": [
       "<div>\n",
       "<style scoped>\n",
       "    .dataframe tbody tr th:only-of-type {\n",
       "        vertical-align: middle;\n",
       "    }\n",
       "\n",
       "    .dataframe tbody tr th {\n",
       "        vertical-align: top;\n",
       "    }\n",
       "\n",
       "    .dataframe thead th {\n",
       "        text-align: right;\n",
       "    }\n",
       "</style>\n",
       "<table border=\"1\" class=\"dataframe\">\n",
       "  <thead>\n",
       "    <tr style=\"text-align: right;\">\n",
       "      <th></th>\n",
       "      <th>Price_mean</th>\n",
       "      <th>Price_std</th>\n",
       "    </tr>\n",
       "  </thead>\n",
       "  <tbody>\n",
       "    <tr>\n",
       "      <th>K=95</th>\n",
       "      <td>1.327771e-84</td>\n",
       "      <td>4.196681e-83</td>\n",
       "    </tr>\n",
       "    <tr>\n",
       "      <th>K=100</th>\n",
       "      <td>0.000000e+00</td>\n",
       "      <td>0.000000e+00</td>\n",
       "    </tr>\n",
       "    <tr>\n",
       "      <th>K=105</th>\n",
       "      <td>0.000000e+00</td>\n",
       "      <td>0.000000e+00</td>\n",
       "    </tr>\n",
       "  </tbody>\n",
       "</table>\n",
       "</div>"
      ],
      "text/plain": [
       "         Price_mean     Price_std\n",
       "K=95   1.327771e-84  4.196681e-83\n",
       "K=100  0.000000e+00  0.000000e+00\n",
       "K=105  0.000000e+00  0.000000e+00"
      ]
     },
     "execution_count": 19,
     "metadata": {},
     "output_type": "execute_result"
    }
   ],
   "source": [
    "pd.DataFrame(output1, index = ['Price_mean','Price_std'], columns=['K={}'.format(K) for K in Ks]).T"
   ]
  },
  {
   "cell_type": "code",
   "execution_count": 20,
   "metadata": {
    "scrolled": true
   },
   "outputs": [
    {
     "data": {
      "text/html": [
       "<div>\n",
       "<style scoped>\n",
       "    .dataframe tbody tr th:only-of-type {\n",
       "        vertical-align: middle;\n",
       "    }\n",
       "\n",
       "    .dataframe tbody tr th {\n",
       "        vertical-align: top;\n",
       "    }\n",
       "\n",
       "    .dataframe thead th {\n",
       "        text-align: right;\n",
       "    }\n",
       "</style>\n",
       "<table border=\"1\" class=\"dataframe\">\n",
       "  <thead>\n",
       "    <tr style=\"text-align: right;\">\n",
       "      <th></th>\n",
       "      <th>Price_mean</th>\n",
       "      <th>Price_std</th>\n",
       "    </tr>\n",
       "  </thead>\n",
       "  <tbody>\n",
       "    <tr>\n",
       "      <th>K=95</th>\n",
       "      <td>4.996817</td>\n",
       "      <td>0.217825</td>\n",
       "    </tr>\n",
       "    <tr>\n",
       "      <th>K=100</th>\n",
       "      <td>0.085384</td>\n",
       "      <td>0.110352</td>\n",
       "    </tr>\n",
       "    <tr>\n",
       "      <th>K=105</th>\n",
       "      <td>0.000000</td>\n",
       "      <td>0.000000</td>\n",
       "    </tr>\n",
       "  </tbody>\n",
       "</table>\n",
       "</div>"
      ],
      "text/plain": [
       "       Price_mean  Price_std\n",
       "K=95     4.996817   0.217825\n",
       "K=100    0.085384   0.110352\n",
       "K=105    0.000000   0.000000"
      ]
     },
     "execution_count": 20,
     "metadata": {},
     "output_type": "execute_result"
    }
   ],
   "source": [
    "pd.DataFrame(output2, index = ['Price_mean','Price_std'], columns=['K={}'.format(K) for K in Ks]).T"
   ]
  },
  {
   "cell_type": "code",
   "execution_count": 21,
   "metadata": {},
   "outputs": [
    {
     "data": {
      "text/html": [
       "<div>\n",
       "<style scoped>\n",
       "    .dataframe tbody tr th:only-of-type {\n",
       "        vertical-align: middle;\n",
       "    }\n",
       "\n",
       "    .dataframe tbody tr th {\n",
       "        vertical-align: top;\n",
       "    }\n",
       "\n",
       "    .dataframe thead th {\n",
       "        text-align: right;\n",
       "    }\n",
       "</style>\n",
       "<table border=\"1\" class=\"dataframe\">\n",
       "  <thead>\n",
       "    <tr style=\"text-align: right;\">\n",
       "      <th></th>\n",
       "      <th>Bachelier_price</th>\n",
       "    </tr>\n",
       "  </thead>\n",
       "  <tbody>\n",
       "    <tr>\n",
       "      <th>K=95</th>\n",
       "      <td>5.000000e+00</td>\n",
       "    </tr>\n",
       "    <tr>\n",
       "      <th>K=100</th>\n",
       "      <td>6.911322e-02</td>\n",
       "    </tr>\n",
       "    <tr>\n",
       "      <th>K=105</th>\n",
       "      <td>1.088174e-185</td>\n",
       "    </tr>\n",
       "  </tbody>\n",
       "</table>\n",
       "</div>"
      ],
      "text/plain": [
       "       Bachelier_price\n",
       "K=95      5.000000e+00\n",
       "K=100     6.911322e-02\n",
       "K=105    1.088174e-185"
      ]
     },
     "execution_count": 21,
     "metadata": {},
     "output_type": "execute_result"
    }
   ],
   "source": [
    "pd.DataFrame(output3, index=['K={}'.format(K) for K in Ks], columns = ['Bachelier_price'])"
   ]
  },
  {
   "cell_type": "markdown",
   "metadata": {},
   "source": [
    "|$$K/S_0$$| Case IV |\n",
    "|:- - - |- - - -|\n",
    "|0.95|11.657|\n",
    "|1|8.926|\n",
    "|1.05|6.636|"
   ]
  },
  {
   "cell_type": "code",
   "execution_count": 22,
   "metadata": {},
   "outputs": [
    {
     "ename": "ValueError",
     "evalue": "f(a) and f(b) must have different signs",
     "output_type": "error",
     "traceback": [
      "\u001b[1;31m---------------------------------------------------------------------------\u001b[0m",
      "\u001b[1;31mValueError\u001b[0m                                Traceback (most recent call last)",
      "\u001b[1;32m<ipython-input-22-871471ab6d38>\u001b[0m in \u001b[0;36m<module>\u001b[1;34m\u001b[0m\n\u001b[0;32m      6\u001b[0m     \u001b[0maemc\u001b[0m \u001b[1;33m=\u001b[0m \u001b[0mpf\u001b[0m\u001b[1;33m.\u001b[0m\u001b[0mSv32McAe\u001b[0m\u001b[1;33m(\u001b[0m\u001b[0mS0\u001b[0m\u001b[1;33m,\u001b[0m \u001b[0mKs\u001b[0m\u001b[1;33m,\u001b[0m \u001b[0mT\u001b[0m\u001b[1;33m=\u001b[0m\u001b[0mt\u001b[0m\u001b[1;33m,\u001b[0m\u001b[0mr\u001b[0m\u001b[1;33m=\u001b[0m\u001b[1;36m0.000\u001b[0m\u001b[1;33m,\u001b[0m \u001b[0msigma_0\u001b[0m\u001b[1;33m=\u001b[0m\u001b[1;36m0.245\u001b[0m\u001b[1;33m,\u001b[0m \u001b[0mbeta\u001b[0m\u001b[1;33m=\u001b[0m\u001b[1;36m0\u001b[0m\u001b[1;33m,\u001b[0m \u001b[0mrho\u001b[0m\u001b[1;33m=\u001b[0m\u001b[1;33m-\u001b[0m\u001b[1;36m0.99\u001b[0m\u001b[1;33m,\u001b[0m \u001b[0mtheta\u001b[0m\u001b[1;33m=\u001b[0m\u001b[1;36m0.218\u001b[0m\u001b[1;33m,\u001b[0m \u001b[0mkappa\u001b[0m\u001b[1;33m=\u001b[0m\u001b[1;36m19.76\u001b[0m\u001b[1;33m,\u001b[0m \u001b[0mvov\u001b[0m\u001b[1;33m=\u001b[0m\u001b[1;36m3.20\u001b[0m\u001b[1;33m,\u001b[0m \u001b[0mpath_num\u001b[0m \u001b[1;33m=\u001b[0m \u001b[1;36m1000\u001b[0m\u001b[1;33m,\u001b[0m \u001b[0mcp\u001b[0m\u001b[1;33m=\u001b[0m\u001b[1;36m1\u001b[0m\u001b[1;33m)\u001b[0m\u001b[1;33m\u001b[0m\u001b[1;33m\u001b[0m\u001b[0m\n\u001b[0;32m      7\u001b[0m     \u001b[0maemc\u001b[0m\u001b[1;33m.\u001b[0m\u001b[0moptionPrice_version2\u001b[0m\u001b[1;33m(\u001b[0m\u001b[1;33m)\u001b[0m\u001b[1;33m\u001b[0m\u001b[1;33m\u001b[0m\u001b[0m\n\u001b[1;32m----> 8\u001b[1;33m     \u001b[0mZ\u001b[0m\u001b[1;33m[\u001b[0m\u001b[0midx\u001b[0m\u001b[1;33m,\u001b[0m\u001b[1;33m:\u001b[0m\u001b[1;33m]\u001b[0m \u001b[1;33m=\u001b[0m \u001b[0maemc\u001b[0m\u001b[1;33m.\u001b[0m\u001b[0mimpliedVolatility1\u001b[0m\u001b[1;33m(\u001b[0m\u001b[1;33m)\u001b[0m\u001b[1;33m\u001b[0m\u001b[1;33m\u001b[0m\u001b[0m\n\u001b[0m\u001b[0;32m      9\u001b[0m \u001b[1;33m\u001b[0m\u001b[0m\n\u001b[0;32m     10\u001b[0m \u001b[0mfig\u001b[0m \u001b[1;33m=\u001b[0m \u001b[0mplt\u001b[0m\u001b[1;33m.\u001b[0m\u001b[0mfigure\u001b[0m\u001b[1;33m(\u001b[0m\u001b[0mfigsize\u001b[0m\u001b[1;33m=\u001b[0m\u001b[1;33m(\u001b[0m\u001b[1;36m12\u001b[0m\u001b[1;33m,\u001b[0m \u001b[1;36m8\u001b[0m\u001b[1;33m)\u001b[0m\u001b[1;33m)\u001b[0m\u001b[1;33m\u001b[0m\u001b[1;33m\u001b[0m\u001b[0m\n",
      "\u001b[1;32mD:/我的文档/在校用的/20212/ASP/Final_Project/PyFeng\\pyfeng\\sv32McAe.py\u001b[0m in \u001b[0;36mimpliedVolatility1\u001b[1;34m(self)\u001b[0m\n\u001b[0;32m    206\u001b[0m         \u001b[1;32melse\u001b[0m\u001b[1;33m:\u001b[0m\u001b[1;33m\u001b[0m\u001b[1;33m\u001b[0m\u001b[0m\n\u001b[0;32m    207\u001b[0m             \u001b[1;32mfor\u001b[0m \u001b[0mk\u001b[0m\u001b[1;33m,\u001b[0m \u001b[0mp\u001b[0m \u001b[1;32min\u001b[0m \u001b[0mzip\u001b[0m\u001b[1;33m(\u001b[0m\u001b[0mself\u001b[0m\u001b[1;33m.\u001b[0m\u001b[0mKs\u001b[0m\u001b[1;33m.\u001b[0m\u001b[0mravel\u001b[0m\u001b[1;33m(\u001b[0m\u001b[1;33m)\u001b[0m\u001b[1;33m,\u001b[0m \u001b[0mself\u001b[0m\u001b[1;33m.\u001b[0m\u001b[0moption_prices\u001b[0m\u001b[1;33m.\u001b[0m\u001b[0mravel\u001b[0m\u001b[1;33m(\u001b[0m\u001b[1;33m)\u001b[0m\u001b[1;33m)\u001b[0m\u001b[1;33m:\u001b[0m\u001b[1;33m\u001b[0m\u001b[1;33m\u001b[0m\u001b[0m\n\u001b[1;32m--> 208\u001b[1;33m                 \u001b[0moutput\u001b[0m\u001b[1;33m.\u001b[0m\u001b[0mappend\u001b[0m\u001b[1;33m(\u001b[0m\u001b[0mself\u001b[0m\u001b[1;33m.\u001b[0m\u001b[0mimp_vol_for_normal\u001b[0m\u001b[1;33m(\u001b[0m\u001b[0mk\u001b[0m\u001b[1;33m,\u001b[0m \u001b[0mp\u001b[0m\u001b[1;33m)\u001b[0m\u001b[1;33m)\u001b[0m\u001b[1;33m\u001b[0m\u001b[1;33m\u001b[0m\u001b[0m\n\u001b[0m\u001b[0;32m    209\u001b[0m         \u001b[1;32mreturn\u001b[0m \u001b[0mnp\u001b[0m\u001b[1;33m.\u001b[0m\u001b[0marray\u001b[0m\u001b[1;33m(\u001b[0m\u001b[0moutput\u001b[0m\u001b[1;33m)\u001b[0m\u001b[1;33m\u001b[0m\u001b[1;33m\u001b[0m\u001b[0m\n\u001b[0;32m    210\u001b[0m \u001b[1;33m\u001b[0m\u001b[0m\n",
      "\u001b[1;32mD:/我的文档/在校用的/20212/ASP/Final_Project/PyFeng\\pyfeng\\sv32McAe.py\u001b[0m in \u001b[0;36mimp_vol_for_normal\u001b[1;34m(self, K, price)\u001b[0m\n\u001b[0;32m    196\u001b[0m         \u001b[0miv_func\u001b[0m \u001b[1;33m=\u001b[0m \u001b[1;32mlambda\u001b[0m \u001b[0m_vol\u001b[0m\u001b[1;33m:\u001b[0m\u001b[0;31m \u001b[0m\u001b[0;31m\\\u001b[0m\u001b[1;33m\u001b[0m\u001b[1;33m\u001b[0m\u001b[0m\n\u001b[0;32m    197\u001b[0m             \u001b[0mself\u001b[0m\u001b[1;33m.\u001b[0m\u001b[0mBachelier\u001b[0m\u001b[1;33m(\u001b[0m\u001b[0mself\u001b[0m\u001b[1;33m.\u001b[0m\u001b[0mS0\u001b[0m\u001b[1;33m,\u001b[0m \u001b[0mK\u001b[0m\u001b[1;33m,\u001b[0m \u001b[0mself\u001b[0m\u001b[1;33m.\u001b[0m\u001b[0mr\u001b[0m\u001b[1;33m,\u001b[0m \u001b[0mself\u001b[0m\u001b[1;33m.\u001b[0m\u001b[0mT\u001b[0m\u001b[1;33m,\u001b[0m \u001b[0m_vol\u001b[0m\u001b[1;33m,\u001b[0m \u001b[0mself\u001b[0m\u001b[1;33m.\u001b[0m\u001b[0mcp\u001b[0m\u001b[1;33m)\u001b[0m \u001b[1;33m-\u001b[0m \u001b[0mprice\u001b[0m\u001b[1;33m\u001b[0m\u001b[1;33m\u001b[0m\u001b[0m\n\u001b[1;32m--> 198\u001b[1;33m         \u001b[0mvol\u001b[0m \u001b[1;33m=\u001b[0m \u001b[0msopt\u001b[0m\u001b[1;33m.\u001b[0m\u001b[0mbrentq\u001b[0m\u001b[1;33m(\u001b[0m\u001b[0miv_func\u001b[0m\u001b[1;33m,\u001b[0m \u001b[1;36m0\u001b[0m\u001b[1;33m,\u001b[0m \u001b[1;36m10000\u001b[0m\u001b[1;33m)\u001b[0m\u001b[1;33m\u001b[0m\u001b[1;33m\u001b[0m\u001b[0m\n\u001b[0m\u001b[0;32m    199\u001b[0m         \u001b[1;32mreturn\u001b[0m \u001b[0mvol\u001b[0m\u001b[1;33m\u001b[0m\u001b[1;33m\u001b[0m\u001b[0m\n\u001b[0;32m    200\u001b[0m \u001b[1;33m\u001b[0m\u001b[0m\n",
      "\u001b[1;32mD:\\Applications\\Anaconda3\\lib\\site-packages\\scipy\\optimize\\zeros.py\u001b[0m in \u001b[0;36mbrentq\u001b[1;34m(f, a, b, args, xtol, rtol, maxiter, full_output, disp)\u001b[0m\n\u001b[0;32m    774\u001b[0m     \u001b[1;32mif\u001b[0m \u001b[0mrtol\u001b[0m \u001b[1;33m<\u001b[0m \u001b[0m_rtol\u001b[0m\u001b[1;33m:\u001b[0m\u001b[1;33m\u001b[0m\u001b[1;33m\u001b[0m\u001b[0m\n\u001b[0;32m    775\u001b[0m         \u001b[1;32mraise\u001b[0m \u001b[0mValueError\u001b[0m\u001b[1;33m(\u001b[0m\u001b[1;34m\"rtol too small (%g < %g)\"\u001b[0m \u001b[1;33m%\u001b[0m \u001b[1;33m(\u001b[0m\u001b[0mrtol\u001b[0m\u001b[1;33m,\u001b[0m \u001b[0m_rtol\u001b[0m\u001b[1;33m)\u001b[0m\u001b[1;33m)\u001b[0m\u001b[1;33m\u001b[0m\u001b[1;33m\u001b[0m\u001b[0m\n\u001b[1;32m--> 776\u001b[1;33m     \u001b[0mr\u001b[0m \u001b[1;33m=\u001b[0m \u001b[0m_zeros\u001b[0m\u001b[1;33m.\u001b[0m\u001b[0m_brentq\u001b[0m\u001b[1;33m(\u001b[0m\u001b[0mf\u001b[0m\u001b[1;33m,\u001b[0m \u001b[0ma\u001b[0m\u001b[1;33m,\u001b[0m \u001b[0mb\u001b[0m\u001b[1;33m,\u001b[0m \u001b[0mxtol\u001b[0m\u001b[1;33m,\u001b[0m \u001b[0mrtol\u001b[0m\u001b[1;33m,\u001b[0m \u001b[0mmaxiter\u001b[0m\u001b[1;33m,\u001b[0m \u001b[0margs\u001b[0m\u001b[1;33m,\u001b[0m \u001b[0mfull_output\u001b[0m\u001b[1;33m,\u001b[0m \u001b[0mdisp\u001b[0m\u001b[1;33m)\u001b[0m\u001b[1;33m\u001b[0m\u001b[1;33m\u001b[0m\u001b[0m\n\u001b[0m\u001b[0;32m    777\u001b[0m     \u001b[1;32mreturn\u001b[0m \u001b[0mresults_c\u001b[0m\u001b[1;33m(\u001b[0m\u001b[0mfull_output\u001b[0m\u001b[1;33m,\u001b[0m \u001b[0mr\u001b[0m\u001b[1;33m)\u001b[0m\u001b[1;33m\u001b[0m\u001b[1;33m\u001b[0m\u001b[0m\n\u001b[0;32m    778\u001b[0m \u001b[1;33m\u001b[0m\u001b[0m\n",
      "\u001b[1;31mValueError\u001b[0m: f(a) and f(b) must have different signs"
     ]
    }
   ],
   "source": [
    "S0 = 100\n",
    "Ks = np.linspace(80, 120, num=50, endpoint=True, retstep=False, dtype=None)\n",
    "T = np.linspace(1, 10, num=20, endpoint=True, retstep=False, dtype=None)\n",
    "Z = np.zeros([len(T),len(Ks)])\n",
    "for idx,t in enumerate(T):\n",
    "    aemc = pf.Sv32McAe(S0, Ks, T=t,r=0.000, sigma_0=0.245, beta=0, rho=-0.99, theta=0.218, kappa=19.76, vov=3.20, path_num = 1000, cp=1)\n",
    "    aemc.optionPrice_version2()\n",
    "    Z[idx,:] = aemc.impliedVolatility1()\n",
    "\n",
    "fig = plt.figure(figsize=(12, 8))\n",
    "ax = Axes3D(fig)\n",
    "delta = 0.5\n",
    "# 对x、y数据执行网格化\n",
    "X, Y = np.meshgrid(Ks,T)\n",
    "\n",
    "# 绘制3D图形\n",
    "ax.plot_surface(X, Y, Z,\n",
    "    rstride=1,  # rstride（row）指定行的跨度\n",
    "    cstride=1,  # cstride(column)指定列的跨度\n",
    "    cmap=plt.get_cmap('rainbow'))  # 设置颜色映射\n",
    "# 设置Z轴范围\n",
    "# ax.set_zlim(-2, 2)\n",
    "# 设置标题\n",
    "plt.title(\"volatility\")\n",
    "plt.show()"
   ]
  },
  {
   "cell_type": "markdown",
   "metadata": {},
   "source": [
    "## Case V"
   ]
  },
  {
   "cell_type": "markdown",
   "metadata": {},
   "source": [
    "|Parameters | Case V |\n",
    "|:- - - |- - - -|\n",
    "|$$S_0$$|100|\n",
    "|$$\\kappa$$|20.48|\n",
    "|$$\\theta$$|0.218|\n",
    "|$$\\epsilon$$|3.20|\n",
    "|$$\\rho$$|-0.99|\n",
    "|$$V_0$$|0.06|\n",
    "|$$r$$|0.00|\n",
    "|$$T$$|0.5|"
   ]
  },
  {
   "cell_type": "markdown",
   "metadata": {},
   "source": [
    "## Case V"
   ]
  },
  {
   "cell_type": "code",
   "execution_count": 23,
   "metadata": {},
   "outputs": [],
   "source": [
    "S0=100\n",
    "Ks = np.array([95,100,105])\n",
    "aemc = pf.Sv32McAe(S0, Ks, T=0.5,r=0.000, sigma_0=0.245, beta=0, rho=-0.99, theta=0.218, kappa=20.48, vov=3.20, path_num = 1000, cp=1)\n",
    "output1 = aemc.optionPrice_version1()\n",
    "output2 = aemc.optionPrice_version2()\n",
    "output3 = aemc.Bachelier(S0, Ks, T=0.5,r=0.000, sigma=0.245,cp=1)"
   ]
  },
  {
   "cell_type": "code",
   "execution_count": 24,
   "metadata": {
    "scrolled": false
   },
   "outputs": [
    {
     "data": {
      "text/html": [
       "<div>\n",
       "<style scoped>\n",
       "    .dataframe tbody tr th:only-of-type {\n",
       "        vertical-align: middle;\n",
       "    }\n",
       "\n",
       "    .dataframe tbody tr th {\n",
       "        vertical-align: top;\n",
       "    }\n",
       "\n",
       "    .dataframe thead th {\n",
       "        text-align: right;\n",
       "    }\n",
       "</style>\n",
       "<table border=\"1\" class=\"dataframe\">\n",
       "  <thead>\n",
       "    <tr style=\"text-align: right;\">\n",
       "      <th></th>\n",
       "      <th>Price_mean</th>\n",
       "      <th>Price_std</th>\n",
       "    </tr>\n",
       "  </thead>\n",
       "  <tbody>\n",
       "    <tr>\n",
       "      <th>K=95</th>\n",
       "      <td>5.026030e-97</td>\n",
       "      <td>1.431104e-95</td>\n",
       "    </tr>\n",
       "    <tr>\n",
       "      <th>K=100</th>\n",
       "      <td>0.000000e+00</td>\n",
       "      <td>0.000000e+00</td>\n",
       "    </tr>\n",
       "    <tr>\n",
       "      <th>K=105</th>\n",
       "      <td>0.000000e+00</td>\n",
       "      <td>0.000000e+00</td>\n",
       "    </tr>\n",
       "  </tbody>\n",
       "</table>\n",
       "</div>"
      ],
      "text/plain": [
       "         Price_mean     Price_std\n",
       "K=95   5.026030e-97  1.431104e-95\n",
       "K=100  0.000000e+00  0.000000e+00\n",
       "K=105  0.000000e+00  0.000000e+00"
      ]
     },
     "execution_count": 24,
     "metadata": {},
     "output_type": "execute_result"
    }
   ],
   "source": [
    "pd.DataFrame(output1, index = ['Price_mean','Price_std'], columns=['K={}'.format(K) for K in Ks]).T"
   ]
  },
  {
   "cell_type": "code",
   "execution_count": 25,
   "metadata": {
    "scrolled": false
   },
   "outputs": [
    {
     "data": {
      "text/html": [
       "<div>\n",
       "<style scoped>\n",
       "    .dataframe tbody tr th:only-of-type {\n",
       "        vertical-align: middle;\n",
       "    }\n",
       "\n",
       "    .dataframe tbody tr th {\n",
       "        vertical-align: top;\n",
       "    }\n",
       "\n",
       "    .dataframe thead th {\n",
       "        text-align: right;\n",
       "    }\n",
       "</style>\n",
       "<table border=\"1\" class=\"dataframe\">\n",
       "  <thead>\n",
       "    <tr style=\"text-align: right;\">\n",
       "      <th></th>\n",
       "      <th>Price_mean</th>\n",
       "      <th>Price_std</th>\n",
       "    </tr>\n",
       "  </thead>\n",
       "  <tbody>\n",
       "    <tr>\n",
       "      <th>K=95</th>\n",
       "      <td>4.994037</td>\n",
       "      <td>0.216865</td>\n",
       "    </tr>\n",
       "    <tr>\n",
       "      <th>K=100</th>\n",
       "      <td>0.082450</td>\n",
       "      <td>0.107875</td>\n",
       "    </tr>\n",
       "    <tr>\n",
       "      <th>K=105</th>\n",
       "      <td>0.000000</td>\n",
       "      <td>0.000000</td>\n",
       "    </tr>\n",
       "  </tbody>\n",
       "</table>\n",
       "</div>"
      ],
      "text/plain": [
       "       Price_mean  Price_std\n",
       "K=95     4.994037   0.216865\n",
       "K=100    0.082450   0.107875\n",
       "K=105    0.000000   0.000000"
      ]
     },
     "execution_count": 25,
     "metadata": {},
     "output_type": "execute_result"
    }
   ],
   "source": [
    "pd.DataFrame(output2, index = ['Price_mean','Price_std'], columns=['K={}'.format(K) for K in Ks]).T"
   ]
  },
  {
   "cell_type": "code",
   "execution_count": 26,
   "metadata": {},
   "outputs": [
    {
     "data": {
      "text/html": [
       "<div>\n",
       "<style scoped>\n",
       "    .dataframe tbody tr th:only-of-type {\n",
       "        vertical-align: middle;\n",
       "    }\n",
       "\n",
       "    .dataframe tbody tr th {\n",
       "        vertical-align: top;\n",
       "    }\n",
       "\n",
       "    .dataframe thead th {\n",
       "        text-align: right;\n",
       "    }\n",
       "</style>\n",
       "<table border=\"1\" class=\"dataframe\">\n",
       "  <thead>\n",
       "    <tr style=\"text-align: right;\">\n",
       "      <th></th>\n",
       "      <th>Bachelier_price</th>\n",
       "    </tr>\n",
       "  </thead>\n",
       "  <tbody>\n",
       "    <tr>\n",
       "      <th>K=95</th>\n",
       "      <td>5.000000e+00</td>\n",
       "    </tr>\n",
       "    <tr>\n",
       "      <th>K=100</th>\n",
       "      <td>6.911322e-02</td>\n",
       "    </tr>\n",
       "    <tr>\n",
       "      <th>K=105</th>\n",
       "      <td>1.088174e-185</td>\n",
       "    </tr>\n",
       "  </tbody>\n",
       "</table>\n",
       "</div>"
      ],
      "text/plain": [
       "       Bachelier_price\n",
       "K=95      5.000000e+00\n",
       "K=100     6.911322e-02\n",
       "K=105    1.088174e-185"
      ]
     },
     "execution_count": 26,
     "metadata": {},
     "output_type": "execute_result"
    }
   ],
   "source": [
    "pd.DataFrame(output3, index=['K={}'.format(K) for K in Ks], columns = ['Bachelier_price'])"
   ]
  },
  {
   "cell_type": "markdown",
   "metadata": {},
   "source": [
    "|$$K/S_0$$| Case V |\n",
    "|:- - - |- - - -|\n",
    "|0.95|11.724|\n",
    "|1|8.999|\n",
    "|1.05|6.710|"
   ]
  },
  {
   "cell_type": "code",
   "execution_count": 19,
   "metadata": {},
   "outputs": [
    {
     "ename": "ValueError",
     "evalue": "f(a) and f(b) must have different signs",
     "output_type": "error",
     "traceback": [
      "\u001b[1;31m---------------------------------------------------------------------------\u001b[0m",
      "\u001b[1;31mValueError\u001b[0m                                Traceback (most recent call last)",
      "\u001b[1;32m<ipython-input-19-d988c5293bcb>\u001b[0m in \u001b[0;36m<module>\u001b[1;34m\u001b[0m\n\u001b[0;32m      6\u001b[0m     \u001b[0mamec\u001b[0m \u001b[1;33m=\u001b[0m \u001b[0mpf\u001b[0m\u001b[1;33m.\u001b[0m\u001b[0mSv32McAe\u001b[0m\u001b[1;33m(\u001b[0m\u001b[0mS0\u001b[0m\u001b[1;33m,\u001b[0m \u001b[0mKs\u001b[0m\u001b[1;33m,\u001b[0m \u001b[0mT\u001b[0m\u001b[1;33m=\u001b[0m\u001b[0mt\u001b[0m\u001b[1;33m,\u001b[0m\u001b[0mr\u001b[0m\u001b[1;33m=\u001b[0m\u001b[1;36m0.000\u001b[0m\u001b[1;33m,\u001b[0m \u001b[0msigma_0\u001b[0m\u001b[1;33m=\u001b[0m\u001b[1;36m0.245\u001b[0m\u001b[1;33m,\u001b[0m \u001b[0mbeta\u001b[0m\u001b[1;33m=\u001b[0m\u001b[1;36m0\u001b[0m\u001b[1;33m,\u001b[0m \u001b[0mrho\u001b[0m\u001b[1;33m=\u001b[0m\u001b[1;33m-\u001b[0m\u001b[1;36m0.99\u001b[0m\u001b[1;33m,\u001b[0m \u001b[0mtheta\u001b[0m\u001b[1;33m=\u001b[0m\u001b[1;36m0.218\u001b[0m\u001b[1;33m,\u001b[0m \u001b[0mkappa\u001b[0m\u001b[1;33m=\u001b[0m\u001b[1;36m20.48\u001b[0m\u001b[1;33m,\u001b[0m \u001b[0mvov\u001b[0m\u001b[1;33m=\u001b[0m\u001b[1;36m3.20\u001b[0m\u001b[1;33m,\u001b[0m \u001b[0mpath_num\u001b[0m \u001b[1;33m=\u001b[0m \u001b[1;36m1000\u001b[0m\u001b[1;33m,\u001b[0m \u001b[0mcp\u001b[0m\u001b[1;33m=\u001b[0m\u001b[1;36m1\u001b[0m\u001b[1;33m)\u001b[0m\u001b[1;33m\u001b[0m\u001b[1;33m\u001b[0m\u001b[0m\n\u001b[0;32m      7\u001b[0m     \u001b[0mamec\u001b[0m\u001b[1;33m.\u001b[0m\u001b[0moptionPrice_version2\u001b[0m\u001b[1;33m(\u001b[0m\u001b[1;33m)\u001b[0m\u001b[1;33m\u001b[0m\u001b[1;33m\u001b[0m\u001b[0m\n\u001b[1;32m----> 8\u001b[1;33m     \u001b[0mZ\u001b[0m\u001b[1;33m[\u001b[0m\u001b[0midx\u001b[0m\u001b[1;33m,\u001b[0m\u001b[1;33m:\u001b[0m\u001b[1;33m]\u001b[0m \u001b[1;33m=\u001b[0m \u001b[0mamec\u001b[0m\u001b[1;33m.\u001b[0m\u001b[0mimpliedVolatility1\u001b[0m\u001b[1;33m(\u001b[0m\u001b[1;33m)\u001b[0m\u001b[1;33m\u001b[0m\u001b[1;33m\u001b[0m\u001b[0m\n\u001b[0m\u001b[0;32m      9\u001b[0m \u001b[1;33m\u001b[0m\u001b[0m\n\u001b[0;32m     10\u001b[0m \u001b[0mfig\u001b[0m \u001b[1;33m=\u001b[0m \u001b[0mplt\u001b[0m\u001b[1;33m.\u001b[0m\u001b[0mfigure\u001b[0m\u001b[1;33m(\u001b[0m\u001b[0mfigsize\u001b[0m\u001b[1;33m=\u001b[0m\u001b[1;33m(\u001b[0m\u001b[1;36m12\u001b[0m\u001b[1;33m,\u001b[0m \u001b[1;36m8\u001b[0m\u001b[1;33m)\u001b[0m\u001b[1;33m)\u001b[0m\u001b[1;33m\u001b[0m\u001b[1;33m\u001b[0m\u001b[0m\n",
      "\u001b[1;32mD:/我的文档/在校用的/20212/ASP/Final_Project/PyFeng\\pyfeng\\sv32McAe.py\u001b[0m in \u001b[0;36mimpliedVolatility1\u001b[1;34m(self)\u001b[0m\n\u001b[0;32m    206\u001b[0m         \u001b[1;32melse\u001b[0m\u001b[1;33m:\u001b[0m\u001b[1;33m\u001b[0m\u001b[1;33m\u001b[0m\u001b[0m\n\u001b[0;32m    207\u001b[0m             \u001b[1;32mfor\u001b[0m \u001b[0mk\u001b[0m\u001b[1;33m,\u001b[0m \u001b[0mp\u001b[0m \u001b[1;32min\u001b[0m \u001b[0mzip\u001b[0m\u001b[1;33m(\u001b[0m\u001b[0mself\u001b[0m\u001b[1;33m.\u001b[0m\u001b[0mKs\u001b[0m\u001b[1;33m.\u001b[0m\u001b[0mravel\u001b[0m\u001b[1;33m(\u001b[0m\u001b[1;33m)\u001b[0m\u001b[1;33m,\u001b[0m \u001b[0mself\u001b[0m\u001b[1;33m.\u001b[0m\u001b[0moption_prices\u001b[0m\u001b[1;33m.\u001b[0m\u001b[0mravel\u001b[0m\u001b[1;33m(\u001b[0m\u001b[1;33m)\u001b[0m\u001b[1;33m)\u001b[0m\u001b[1;33m:\u001b[0m\u001b[1;33m\u001b[0m\u001b[1;33m\u001b[0m\u001b[0m\n\u001b[1;32m--> 208\u001b[1;33m                 \u001b[0moutput\u001b[0m\u001b[1;33m.\u001b[0m\u001b[0mappend\u001b[0m\u001b[1;33m(\u001b[0m\u001b[0mself\u001b[0m\u001b[1;33m.\u001b[0m\u001b[0mimp_vol_for_normal\u001b[0m\u001b[1;33m(\u001b[0m\u001b[0mk\u001b[0m\u001b[1;33m,\u001b[0m \u001b[0mp\u001b[0m\u001b[1;33m)\u001b[0m\u001b[1;33m)\u001b[0m\u001b[1;33m\u001b[0m\u001b[1;33m\u001b[0m\u001b[0m\n\u001b[0m\u001b[0;32m    209\u001b[0m         \u001b[1;32mreturn\u001b[0m \u001b[0mnp\u001b[0m\u001b[1;33m.\u001b[0m\u001b[0marray\u001b[0m\u001b[1;33m(\u001b[0m\u001b[0moutput\u001b[0m\u001b[1;33m)\u001b[0m\u001b[1;33m\u001b[0m\u001b[1;33m\u001b[0m\u001b[0m\n\u001b[0;32m    210\u001b[0m \u001b[1;33m\u001b[0m\u001b[0m\n",
      "\u001b[1;32mD:/我的文档/在校用的/20212/ASP/Final_Project/PyFeng\\pyfeng\\sv32McAe.py\u001b[0m in \u001b[0;36mimp_vol_for_normal\u001b[1;34m(self, K, price)\u001b[0m\n\u001b[0;32m    196\u001b[0m         \u001b[0miv_func\u001b[0m \u001b[1;33m=\u001b[0m \u001b[1;32mlambda\u001b[0m \u001b[0m_vol\u001b[0m\u001b[1;33m:\u001b[0m\u001b[0;31m \u001b[0m\u001b[0;31m\\\u001b[0m\u001b[1;33m\u001b[0m\u001b[1;33m\u001b[0m\u001b[0m\n\u001b[0;32m    197\u001b[0m             \u001b[0mself\u001b[0m\u001b[1;33m.\u001b[0m\u001b[0mBachelier\u001b[0m\u001b[1;33m(\u001b[0m\u001b[0mself\u001b[0m\u001b[1;33m.\u001b[0m\u001b[0mS0\u001b[0m\u001b[1;33m,\u001b[0m \u001b[0mK\u001b[0m\u001b[1;33m,\u001b[0m \u001b[0mself\u001b[0m\u001b[1;33m.\u001b[0m\u001b[0mr\u001b[0m\u001b[1;33m,\u001b[0m \u001b[0mself\u001b[0m\u001b[1;33m.\u001b[0m\u001b[0mT\u001b[0m\u001b[1;33m,\u001b[0m \u001b[0m_vol\u001b[0m\u001b[1;33m,\u001b[0m \u001b[0mself\u001b[0m\u001b[1;33m.\u001b[0m\u001b[0mcp\u001b[0m\u001b[1;33m)\u001b[0m \u001b[1;33m-\u001b[0m \u001b[0mprice\u001b[0m\u001b[1;33m\u001b[0m\u001b[1;33m\u001b[0m\u001b[0m\n\u001b[1;32m--> 198\u001b[1;33m         \u001b[0mvol\u001b[0m \u001b[1;33m=\u001b[0m \u001b[0msopt\u001b[0m\u001b[1;33m.\u001b[0m\u001b[0mbrentq\u001b[0m\u001b[1;33m(\u001b[0m\u001b[0miv_func\u001b[0m\u001b[1;33m,\u001b[0m \u001b[1;36m0\u001b[0m\u001b[1;33m,\u001b[0m \u001b[1;36m10000\u001b[0m\u001b[1;33m)\u001b[0m\u001b[1;33m\u001b[0m\u001b[1;33m\u001b[0m\u001b[0m\n\u001b[0m\u001b[0;32m    199\u001b[0m         \u001b[1;32mreturn\u001b[0m \u001b[0mvol\u001b[0m\u001b[1;33m\u001b[0m\u001b[1;33m\u001b[0m\u001b[0m\n\u001b[0;32m    200\u001b[0m \u001b[1;33m\u001b[0m\u001b[0m\n",
      "\u001b[1;32mD:\\Applications\\Anaconda3\\lib\\site-packages\\scipy\\optimize\\zeros.py\u001b[0m in \u001b[0;36mbrentq\u001b[1;34m(f, a, b, args, xtol, rtol, maxiter, full_output, disp)\u001b[0m\n\u001b[0;32m    774\u001b[0m     \u001b[1;32mif\u001b[0m \u001b[0mrtol\u001b[0m \u001b[1;33m<\u001b[0m \u001b[0m_rtol\u001b[0m\u001b[1;33m:\u001b[0m\u001b[1;33m\u001b[0m\u001b[1;33m\u001b[0m\u001b[0m\n\u001b[0;32m    775\u001b[0m         \u001b[1;32mraise\u001b[0m \u001b[0mValueError\u001b[0m\u001b[1;33m(\u001b[0m\u001b[1;34m\"rtol too small (%g < %g)\"\u001b[0m \u001b[1;33m%\u001b[0m \u001b[1;33m(\u001b[0m\u001b[0mrtol\u001b[0m\u001b[1;33m,\u001b[0m \u001b[0m_rtol\u001b[0m\u001b[1;33m)\u001b[0m\u001b[1;33m)\u001b[0m\u001b[1;33m\u001b[0m\u001b[1;33m\u001b[0m\u001b[0m\n\u001b[1;32m--> 776\u001b[1;33m     \u001b[0mr\u001b[0m \u001b[1;33m=\u001b[0m \u001b[0m_zeros\u001b[0m\u001b[1;33m.\u001b[0m\u001b[0m_brentq\u001b[0m\u001b[1;33m(\u001b[0m\u001b[0mf\u001b[0m\u001b[1;33m,\u001b[0m \u001b[0ma\u001b[0m\u001b[1;33m,\u001b[0m \u001b[0mb\u001b[0m\u001b[1;33m,\u001b[0m \u001b[0mxtol\u001b[0m\u001b[1;33m,\u001b[0m \u001b[0mrtol\u001b[0m\u001b[1;33m,\u001b[0m \u001b[0mmaxiter\u001b[0m\u001b[1;33m,\u001b[0m \u001b[0margs\u001b[0m\u001b[1;33m,\u001b[0m \u001b[0mfull_output\u001b[0m\u001b[1;33m,\u001b[0m \u001b[0mdisp\u001b[0m\u001b[1;33m)\u001b[0m\u001b[1;33m\u001b[0m\u001b[1;33m\u001b[0m\u001b[0m\n\u001b[0m\u001b[0;32m    777\u001b[0m     \u001b[1;32mreturn\u001b[0m \u001b[0mresults_c\u001b[0m\u001b[1;33m(\u001b[0m\u001b[0mfull_output\u001b[0m\u001b[1;33m,\u001b[0m \u001b[0mr\u001b[0m\u001b[1;33m)\u001b[0m\u001b[1;33m\u001b[0m\u001b[1;33m\u001b[0m\u001b[0m\n\u001b[0;32m    778\u001b[0m \u001b[1;33m\u001b[0m\u001b[0m\n",
      "\u001b[1;31mValueError\u001b[0m: f(a) and f(b) must have different signs"
     ]
    }
   ],
   "source": [
    "S0 = 100\n",
    "Ks = np.linspace(80, 120, num=50, endpoint=True, retstep=False, dtype=None)\n",
    "T = np.linspace(1, 10, num=20, endpoint=True, retstep=False, dtype=None)\n",
    "Z = np.zeros([len(T),len(Ks)])\n",
    "for idx,t in enumerate(T):\n",
    "    aemc = pf.Sv32McAe(S0, Ks, T=t,r=0.000, sigma_0=0.245, beta=0, rho=-0.99, theta=0.218, kappa=20.48, vov=3.20, path_num = 1000, cp=1)\n",
    "    aemc.optionPrice_version2()\n",
    "    Z[idx,:] = aemc.impliedVolatility1()\n",
    "\n",
    "fig = plt.figure(figsize=(12, 8))\n",
    "ax = Axes3D(fig)\n",
    "delta = 0.5\n",
    "# 对x、y数据执行网格化\n",
    "X, Y = np.meshgrid(Ks,T)\n",
    "\n",
    "# 绘制3D图形\n",
    "ax.plot_surface(X, Y, Z,\n",
    "    rstride=1,  # rstride（row）指定行的跨度\n",
    "    cstride=1,  # cstride(column)指定列的跨度\n",
    "    cmap=plt.get_cmap('rainbow'))  # 设置颜色映射\n",
    "# 设置Z轴范围\n",
    "# ax.set_zlim(-2, 2)\n",
    "# 设置标题\n",
    "plt.title(\"volatility\")\n",
    "plt.show()"
   ]
  },
  {
   "cell_type": "markdown",
   "metadata": {},
   "source": [
    "# Part 3: Analysis:"
   ]
  },
  {
   "cell_type": "markdown",
   "metadata": {},
   "source": [
    "Strengths:\n",
    "\n",
    "Compared with exact MC method, almost exact MC method is not that time-consuming. For exact MC method, the most time consuming step when sampling from the conditional distribution is the evaluation of the modified Bessel function of the first kind, $I_\\nu(z)$, which has to be evaluated at **complex** $\\nu$.Besides, drawing random from numerical CDF is also slow. However, for almost exact method, it supposes $V_T$ subjects to an easy and well-known distribution by matching fisrt and second moment, which saves much time.\n",
    "\n",
    "Weaknesses:\n",
    "\n",
    "Almost exact MC is also time-consuming compared with conditional MC. Besides, the outcome we get right now is not accurate. Maybe we need further analysis, e.g inverse gaussian."
   ]
  }
 ],
 "metadata": {
  "kernelspec": {
   "display_name": "Python 3",
   "language": "python",
   "name": "python3"
  },
  "language_info": {
   "codemirror_mode": {
    "name": "ipython",
    "version": 3
   },
   "file_extension": ".py",
   "mimetype": "text/x-python",
   "name": "python",
   "nbconvert_exporter": "python",
   "pygments_lexer": "ipython3",
   "version": "3.8.5"
  },
  "toc": {
   "base_numbering": 1,
   "nav_menu": {},
   "number_sections": true,
   "sideBar": true,
   "skip_h1_title": false,
   "title_cell": "Table of Contents",
   "title_sidebar": "Contents",
   "toc_cell": false,
   "toc_position": {},
   "toc_section_display": true,
   "toc_window_display": false
  }
 },
 "nbformat": 4,
 "nbformat_minor": 4
}
