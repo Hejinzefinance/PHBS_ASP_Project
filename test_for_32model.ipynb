{
 "cells": [
  {
   "cell_type": "markdown",
   "metadata": {},
   "source": [
    "<font size=6 face=\"微软雅黑\">**Almost Exact simulation of the 3/2 model**</font>"
   ]
  },
  {
   "cell_type": "markdown",
   "metadata": {},
   "source": [
    "Different from Baldeaux ([2012](https://doi.org/10.1142/S021902491250032X)), we use an almost exact way to calculate the option price under the 3/2 model. The dynamics of the stock price under the 3/2 model under the risk-neutral measure are given by\n",
    "\n",
    "$$\n",
    " \\frac{dS_t}{S_t} = rdt + \\sqrt{V_t}\\rho dW_t^1 + \\sqrt{V_t}\\sqrt{1-\\rho^2}dW_t^2 \\tag{1}\n",
    "$$\n",
    "\n",
    "$$\n",
    " dV_t = \\kappa V_t (\\theta - V_t)dt + \\epsilon V_t^{3/2}dW_t^1 \\tag{2}\n",
    "$$\n",
    "\n",
    "where $W_t^1$ and $W_t^2$ are independent Brownian motions. Regarding the parameters, $r$ represents the constant interest rate, $\\rho$ the instantaneous correlation between the return on the stock and the variance process and $\\epsilon$ governs the volatility of volatility. The speed of mean reversion is given by $\\kappa V_t$ and $\\theta$ denotes the long-run mean of the variance process.\n",
    "\n",
    "Defining $X_t = \\frac{1}{V_t}$, we obtain\n",
    "\n",
    "$$\n",
    "dX_t = (\\kappa + \\epsilon^2 - \\kappa\\theta X_t)dt - \\epsilon \\sqrt{X_t}dW_t^1 \\tag{3}\n",
    "$$\n",
    "\n"
   ]
  },
  {
   "cell_type": "markdown",
   "metadata": {},
   "source": [
    "# Part 1: Almost Exact MC Method:\n",
    "\n",
    "## Step 1): Simulating $X_T$\n",
    "\n",
    "$X_T$ is distributed as a noncentral $ \\chi^2 $ distribution\n",
    "\n",
    "$$\n",
    "\\frac{X_T{\\rm exp}\\lbrace \\kappa \\theta T \\rbrace}{c(T)} \\sim \\chi^2(\\delta, \\alpha)\n",
    "$$\n",
    "\n",
    "where\n",
    "$$\n",
    "\\delta = \\frac{4(\\kappa + \\epsilon^2)}{\\epsilon^2}, \\quad \\alpha = \\frac{X_0}{c(T)}, \\quad c(T) = \\frac{\\epsilon^2({\\rm exp}\\lbrace \\kappa\\theta T \\rbrace - 1)}{4\\kappa\\theta}\n",
    "$$"
   ]
  },
  {
   "cell_type": "markdown",
   "metadata": {},
   "source": [
    "## Step 2): Simulating $\\int_0^T \\frac{ds}{X_s}$ Given $X_T$\n",
    "\n",
    "Let $X_t$ be given by Eq. (3), then the Laplace transform of the conditional distribution of $\\int_0^t \\frac{ds}{X_s}|X_t$ is\n",
    "\n",
    "$$\n",
    "E\\left({\\rm exp}\\left\\lbrace -a^* \\int_0^t \\frac{ds}{X_s} \\ \\bigg| \\ X_t \\right\\rbrace \\right) = \\frac{I_{\\sqrt{\\nu^2+8a^*/\\epsilon^2}}\\left(-\\frac{2\\kappa\\theta\\sqrt{X_tX_0}}{\\epsilon^2{\\rm sinh}\\left(-\\frac{\\kappa\\theta t}{2}\\right)}\\right)}{I_{\\nu}\\left(-\\frac{2\\kappa\\theta\\sqrt{X_tX_0}}{\\epsilon^2{\\rm sinh}\\left(-\\frac{\\kappa\\theta t}{2}\\right)}\\right)}\n",
    "$$\n"
   ]
  },
  {
   "cell_type": "markdown",
   "metadata": {},
   "source": [
    "where $I_{\\nu}(z)$ denotes the modified Bessel function of the first kind, $\\delta = \\frac{4(\\kappa + \\epsilon^2)}{\\epsilon^2}$ and $\\nu = \\frac{\\delta}{2} - 1$. By setting $a^* = -ia$ we obtain the characteristic function $\\Phi(a)$\n",
    "\n",
    "The characteristic function of $\\int_0^t \\frac{ds}{X_s}|X_t$ is\n",
    "\n",
    "$$\n",
    "\\Phi(a) = E\\left({\\rm exp}\\left\\lbrace ia \\int_0^t \\frac{ds}{X_s} \\ \\bigg| \\ X_t \\right\\rbrace \\right) = \\frac{I_{\\sqrt{\\nu^2-8ia/\\epsilon^2}}\\left(-\\frac{2\\kappa\\theta\\sqrt{X_tX_0}}{\\epsilon^2{\\rm sinh}\\left(-\\frac{\\kappa\\theta t}{2}\\right)}\\right)}{I_{\\nu}\\left(-\\frac{2\\kappa\\theta\\sqrt{X_tX_0}}{\\epsilon^2{\\rm sinh}\\left(-\\frac{\\kappa\\theta t}{2}\\right)}\\right)}\n",
    "$$"
   ]
  },
  {
   "cell_type": "markdown",
   "metadata": {},
   "source": [
    "## Step 3):  Approximate the Distribution of $V_T$  $:= \\frac{1}{X_T}$\n",
    "\n",
    "Approximate $V_T$ with Log-normal distribution by matching the first and second moment $E(V_T|v_T)$, $E(V_T^2|v_T)$, and we can get\n",
    "\n",
    "$$ \\mu = M_1,    \\sigma = \\sqrt \\frac{M_2}{M_1^2}$$\n"
   ]
  },
  {
   "cell_type": "markdown",
   "metadata": {},
   "source": [
    "## Step 4):  Calculate Option Price\n",
    "\n",
    "The SDE in a de-correlated form:\n",
    "$$dS_t = \\sigma_t(\\rho dZ_t+\\sqrt{1-\\rho^2}dX_t),   with dX_tdZ_t=0.$$\n",
    "\n",
    "Randomly picking a path given $V_T$, and we can get $ \\int_0^T\\sigma_t^2dt$\n",
    "\n",
    "Under normal model ($\\beta=0$): \n",
    "\n",
    "$$S_T=S_0+\\frac{\\rho}{\\epsilon}(X_T-X_0-k\\theta T+(k+\\frac{1}{2}\\epsilon^2)\\int_0^T\\sigma_t^2dt)+\\sqrt{(1-\\rho^2)V_T}X_1$$\n",
    "\n",
    "and the option price is from the normal model:\n",
    "\n",
    "$$C_N(K,S_0:=S_0+\\frac{\\rho}{\\epsilon}(X_T-X_0-k\\theta T+(k+\\frac{1}{2}\\epsilon^2)\\int_0^T\\sigma_t^2dt, \\sigma_N := \\sqrt{(1-\\rho^2)V_T/T}  )$$\n",
    "\n",
    "Under BSM model ($\\beta=1$): \n",
    "\n",
    "$$log(\\frac{S_T}{S_0})=\\frac{\\rho}{\\epsilon}(log(\\frac{X_0}{X_T})-k(\\theta T-(1+\\frac{\\epsilon^2}{2k})V_T))-\\frac{1}{2}V_T+\\sqrt{(1-\\rho^2)V_T}X_1$$\n",
    "\n",
    "And the option price is from the BSM formula:\n",
    "\n",
    "$$C_{BS}(K,S_0e^{\\frac{\\rho}{\\epsilon}(log(\\frac{X_0}{X_T})-k(\\theta T-(1+\\frac{\\epsilon^2}{2k})V_T))-\\frac{\\rho^2}{2}I_T},\\sqrt{(1-\\rho^2)V_T/T})$$\n",
    "Furthermore, we consider three versions of almost exact MC:\n",
    "\n",
    "Version 1: Use abs() remediation on moments calculation\n",
    "\n",
    "Version 2: With $M1$ as the simulation of $U_T$\n"
   ]
  },
  {
   "cell_type": "markdown",
   "metadata": {},
   "source": [
    "# Part 2: Numerical Tests:"
   ]
  },
  {
   "cell_type": "markdown",
   "metadata": {},
   "source": [
    "Before the test, we first load our own version of AEMC on the 3/2 option pricing model and some third-party modules."
   ]
  },
  {
   "cell_type": "code",
   "execution_count": 1,
   "metadata": {},
   "outputs": [
    {
     "data": {
      "text/plain": [
       "<module 'pyfeng' from 'D:/我的文档/在校用的/20212/ASP/Final_Project/PyFeng\\\\pyfeng\\\\__init__.py'>"
      ]
     },
     "execution_count": 1,
     "metadata": {},
     "output_type": "execute_result"
    }
   ],
   "source": [
    "import sys\n",
    "sys.path.insert(0, 'E:\\研究生课程\\研二下学期\\应用随机过程\\Finalproject\\local\\PyFENG')\n",
    "sys.path.insert(0, 'D:/我的文档/在校用的/20212/ASP/Final_Project/PyFeng')\n",
    "import pyfeng as pf\n",
    "pf"
   ]
  },
  {
   "cell_type": "code",
   "execution_count": 2,
   "metadata": {
    "scrolled": false
   },
   "outputs": [],
   "source": [
    "import numpy as np\n",
    "import pandas as pd \n",
    "import matplotlib.pyplot as plt\n",
    "from mpl_toolkits.mplot3d import Axes3D"
   ]
  },
  {
   "cell_type": "markdown",
   "metadata": {},
   "source": [
    "In part 2, we mainly have two tasks.\n",
    "\n",
    "First, we do several numerical tests, which have been given results in the paper of Exact MC in 3/2 option pricing model.\n",
    "\n",
    "Second, we will draw the implied volatility surface in the best Case."
   ]
  },
  {
   "cell_type": "markdown",
   "metadata": {},
   "source": [
    "## Numerical Tests in the cases of past papers."
   ]
  },
  {
   "cell_type": "markdown",
   "metadata": {},
   "source": [
    "Here are the parameters for these cases."
   ]
  },
  {
   "cell_type": "markdown",
   "metadata": {},
   "source": [
    "Baldeaux ([2012](https://doi.org/10.1142/S021902491250032X)) chooses the following set of parameters and gives the reference option price **0.443059** (Case I)\n",
    "\n",
    "| Parameters | $$S_0$$ | $$K$$ | $$\\kappa$$ | $$\\theta$$ | $$\\epsilon$$ | $$\\rho$$ | $$V_0$$ | $$r$$ | $$T$$ |Reference option price|\n",
    "|:- - - |:- - - |:- - - |:- - - |:- - - |:- - - |:- - - |:- - - |:- - - |:- - - |:- - - |\n",
    "|Case I|1|1|2|1.5|0.2|-0.5|1|0.05|1|0.443059|"
   ]
  },
  {
   "cell_type": "markdown",
   "metadata": {},
   "source": [
    "IRO RENE KOUARFATE, MICHAEL A. KOURITZIN, AND ANNE MACKAY (2020) choose the following parameters and calculate the exact price (Case II to Case V):"
   ]
  },
  {
   "attachments": {},
   "cell_type": "markdown",
   "metadata": {},
   "source": [
    "|Parameters|$$S_0$$|$$\\kappa$$|$$\\theta$$|$$\\epsilon$$|$$\\rho$$|$$V_0$$|$$r$$|$$T$$|\n",
    "|:- - - |:- - - |:- - - |:- - - |:- - - |:- - - |:- - - |:- - - |:- - - |\n",
    "|Case II|100|22.84|0.218|8.56|-0.99|0.06|0|0.5|\n",
    "|Case III|100|18.32|0.218|8.56|-0.99|0.06|0|0.5|\n",
    "|Case IV|100|19.76|0.218|3.2|-0.99|0.06|0|0.5|\n",
    "|Case V|100|20.48|0.218|3.2|-0.99|0.06|0|0.5|"
   ]
  },
  {
   "cell_type": "markdown",
   "metadata": {},
   "source": [
    "The exact prices of European call options under different $K$ will be as following:\n",
    "\n",
    "|$$K/S_0$$| Case II | Case III | Case IV | Case V |\n",
    "|: - - - |- - - -|- - - -|- - - -|- - - -|\n",
    "|0.95|10.364|10.055|11.657|11.724|\n",
    "|1|7.386|7.042|8.926|8.999|\n",
    "|1.05|4.938|4.586|6.636|6.710|"
   ]
  },
  {
   "cell_type": "markdown",
   "metadata": {},
   "source": [
    "### Case-I"
   ]
  },
  {
   "cell_type": "markdown",
   "metadata": {},
   "source": [
    "Now, let's test for the first case."
   ]
  },
  {
   "cell_type": "markdown",
   "metadata": {},
   "source": [
    "| Parameters | $$S_0$$ | $$K$$ | $$\\kappa$$ | $$\\theta$$ | $$\\epsilon$$ | $$\\rho$$ | $$V_0$$ | $$r$$ | $$T$$ |Reference option price|\n",
    "|:- - - |:- - - |:- - - |:- - - |:- - - |:- - - |:- - - |:- - - |:- - - |:- - - |:- - - |\n",
    "|Case I|1|1|2|1.5|0.2|-0.5|1|0.05|1|0.443059|"
   ]
  },
  {
   "cell_type": "code",
   "execution_count": 3,
   "metadata": {},
   "outputs": [],
   "source": [
    "aemc = pf.Sv32McAe(S0=1, Ks=1, T=1,r=0.05, sigma_0=1, beta=1, rho=-0.5, theta=1.5, kappa=2, vov=0.2, path_num = 1000, cp=1)\n",
    "output1 = aemc.optionPrice_version1()\n",
    "output2 = aemc.optionPrice_version2()"
   ]
  },
  {
   "cell_type": "code",
   "execution_count": 4,
   "metadata": {},
   "outputs": [
    {
     "name": "stdout",
     "output_type": "stream",
     "text": [
      "In version_1, the mean of prices is 59.454702495644646, and the std of prices is 109.90910665257033\n",
      "In version_2, the mean of prices is 0.39006412115155387, and the std of prices is 0.3278558585296599\n",
      "In BSM model, the price is 0.39840162483437175\n",
      "In the paper of Exact MC in the 3/2 model, the price is 0.443059\n"
     ]
    }
   ],
   "source": [
    "print('In version_1, the mean of prices is {}, and the std of prices is {}'.format(output1[0][0],output1[1][0]))\n",
    "print('In version_2, the mean of prices is {}, and the std of prices is {}'.format(output2[0][0],output2[1][0]))\n",
    "print('In BSM model, the price is {}'.format(aemc.BSM(S0=1, Ks=1, T=1,r=0.05, sigma=1,cp=1)))\n",
    "print('In the paper of Exact MC in the 3/2 model, the price is {0:.6f}'.format(0.443059))"
   ]
  },
  {
   "cell_type": "markdown",
   "metadata": {},
   "source": [
    "In version-1, in which we follow the method exactly, we get a very odd result. However, in version-2, that we conduct innovation on, the outcome is much more reasonable."
   ]
  },
  {
   "cell_type": "markdown",
   "metadata": {},
   "source": [
    "### Case-II to Case-V"
   ]
  },
  {
   "cell_type": "markdown",
   "metadata": {},
   "source": [
    "In Kouarfate, Kouritzin and Mackay (2020), these four cases have similar parameter combination. Hence, we decide to put these four cases together, in which beta all equals to 1."
   ]
  },
  {
   "cell_type": "markdown",
   "metadata": {},
   "source": [
    "|Parameters|$$S_0$$|$$\\kappa$$|$$\\theta$$|$$\\epsilon$$|$$\\rho$$|$$V_0$$|$$r$$|$$T$$|\n",
    "|:- - - |:- - - |:- - - |:- - - |:- - - |:- - - |:- - - |:- - - |:- - - |\n",
    "|Case II|100|22.84|0.218|8.56|-0.99|0.06|0|0.5|\n",
    "|Case III|100|18.32|0.218|8.56|-0.99|0.06|0|0.5|\n",
    "|Case IV|100|19.76|0.218|3.2|-0.99|0.06|0|0.5|\n",
    "|Case V|100|20.48|0.218|3.2|-0.99|0.06|0|0.5|\n",
    "\n",
    "\n",
    "|$$K/S_0$$| Case II | Case III | Case IV | Case V |\n",
    "|: - - - |- - - -|- - - -|- - - -|- - - -|\n",
    "|0.95|10.364|10.055|11.657|11.724|\n",
    "|1|7.386|7.042|8.926|8.999|\n",
    "|1.05|4.938|4.586|6.636|6.710|\n"
   ]
  },
  {
   "cell_type": "markdown",
   "metadata": {},
   "source": [
    "First, let us assign all the parameters."
   ]
  },
  {
   "cell_type": "code",
   "execution_count": 5,
   "metadata": {},
   "outputs": [],
   "source": [
    "S0=100\n",
    "Ks = np.array([95,100,105])\n",
    "theta = 0.218\n",
    "rho = -0.99\n",
    "sigma = np.sqrt(0.06)\n",
    "r = 0\n",
    "T = 0.5\n",
    "kappas = np.array([22.84, 18.32, 19.76, 20.48])\n",
    "vovs = np.array([8.56, 8.56, 3.2, 3.2])"
   ]
  },
  {
   "cell_type": "code",
   "execution_count": 6,
   "metadata": {},
   "outputs": [],
   "source": [
    "table_for_version1 = pd.DataFrame(index = [0.95,1,1.05], columns = ['Case II', 'Case III', 'Case IV', 'Case V'])\n",
    "table_for_version2 = pd.DataFrame(index = [0.95,1,1.05], columns = ['Case II', 'Case III', 'Case IV', 'Case V'])\n",
    "table_for_version1_std = pd.DataFrame(index = [0.95,1,1.05], columns = ['Case II', 'Case III', 'Case IV', 'Case V'])\n",
    "table_for_version2_std = pd.DataFrame(index = [0.95,1,1.05], columns = ['Case II', 'Case III', 'Case IV', 'Case V'])\n",
    "table_for_EMC = pd.DataFrame(np.array([[10.364,10.055,11.657,11.724],[7.386,7.042,8.926,8.999],[4.938,4.586,6.636,6.710]]),\n",
    "                             index = [0.95,1,1.05], columns = ['Case II', 'Case III', 'Case IV', 'Case V'])"
   ]
  },
  {
   "cell_type": "code",
   "execution_count": 7,
   "metadata": {},
   "outputs": [],
   "source": [
    "for i in range(4):\n",
    "    aemc = pf.Sv32McAe(S0, Ks, T=T,r=r, sigma_0=sigma, beta=1, rho=rho, theta=theta, kappa=kappas[i], vov=vovs[i], path_num = 1000, cp=1)\n",
    "    output1 = aemc.optionPrice_version1()\n",
    "    output2 = aemc.optionPrice_version2()\n",
    "    table_for_version1.iloc[:,i] = output1[0]\n",
    "    table_for_version1_std.iloc[:,i] = output1[1]\n",
    "    table_for_version2.iloc[:,i] = output2[0]\n",
    "    table_for_version2_std.iloc[:,i] = output2[1]"
   ]
  },
  {
   "cell_type": "code",
   "execution_count": 8,
   "metadata": {},
   "outputs": [],
   "source": [
    "table_for_BSM = pd.DataFrame(aemc.BSM(S0, Ks,r,T,sigma,cp=1),index = [0.95,1,1.05],columns = ['BSM'])"
   ]
  },
  {
   "cell_type": "markdown",
   "metadata": {},
   "source": [
    "Now, let us look at the prices from AEMC, EMC, and BSM."
   ]
  },
  {
   "cell_type": "markdown",
   "metadata": {},
   "source": [
    "AEMC-version-1"
   ]
  },
  {
   "cell_type": "code",
   "execution_count": 9,
   "metadata": {},
   "outputs": [
    {
     "data": {
      "text/html": [
       "<div>\n",
       "<style scoped>\n",
       "    .dataframe tbody tr th:only-of-type {\n",
       "        vertical-align: middle;\n",
       "    }\n",
       "\n",
       "    .dataframe tbody tr th {\n",
       "        vertical-align: top;\n",
       "    }\n",
       "\n",
       "    .dataframe thead th {\n",
       "        text-align: right;\n",
       "    }\n",
       "</style>\n",
       "<table border=\"1\" class=\"dataframe\">\n",
       "  <thead>\n",
       "    <tr style=\"text-align: right;\">\n",
       "      <th></th>\n",
       "      <th>Case II</th>\n",
       "      <th>Case III</th>\n",
       "      <th>Case IV</th>\n",
       "      <th>Case V</th>\n",
       "    </tr>\n",
       "  </thead>\n",
       "  <tbody>\n",
       "    <tr>\n",
       "      <th>0.95</th>\n",
       "      <td>0.0</td>\n",
       "      <td>0.0</td>\n",
       "      <td>0.0</td>\n",
       "      <td>0.0</td>\n",
       "    </tr>\n",
       "    <tr>\n",
       "      <th>1.00</th>\n",
       "      <td>0.0</td>\n",
       "      <td>0.0</td>\n",
       "      <td>0.0</td>\n",
       "      <td>0.0</td>\n",
       "    </tr>\n",
       "    <tr>\n",
       "      <th>1.05</th>\n",
       "      <td>0.0</td>\n",
       "      <td>0.0</td>\n",
       "      <td>0.0</td>\n",
       "      <td>0.0</td>\n",
       "    </tr>\n",
       "  </tbody>\n",
       "</table>\n",
       "</div>"
      ],
      "text/plain": [
       "      Case II  Case III  Case IV  Case V\n",
       "0.95      0.0       0.0      0.0     0.0\n",
       "1.00      0.0       0.0      0.0     0.0\n",
       "1.05      0.0       0.0      0.0     0.0"
      ]
     },
     "execution_count": 9,
     "metadata": {},
     "output_type": "execute_result"
    }
   ],
   "source": [
    "table_for_version1"
   ]
  },
  {
   "cell_type": "markdown",
   "metadata": {},
   "source": [
    "AEMC-version-2"
   ]
  },
  {
   "cell_type": "code",
   "execution_count": 10,
   "metadata": {
    "scrolled": true
   },
   "outputs": [
    {
     "data": {
      "text/html": [
       "<div>\n",
       "<style scoped>\n",
       "    .dataframe tbody tr th:only-of-type {\n",
       "        vertical-align: middle;\n",
       "    }\n",
       "\n",
       "    .dataframe tbody tr th {\n",
       "        vertical-align: top;\n",
       "    }\n",
       "\n",
       "    .dataframe thead th {\n",
       "        text-align: right;\n",
       "    }\n",
       "</style>\n",
       "<table border=\"1\" class=\"dataframe\">\n",
       "  <thead>\n",
       "    <tr style=\"text-align: right;\">\n",
       "      <th></th>\n",
       "      <th>Case II</th>\n",
       "      <th>Case III</th>\n",
       "      <th>Case IV</th>\n",
       "      <th>Case V</th>\n",
       "    </tr>\n",
       "  </thead>\n",
       "  <tbody>\n",
       "    <tr>\n",
       "      <th>0.95</th>\n",
       "      <td>8.442156</td>\n",
       "      <td>8.419183</td>\n",
       "      <td>10.689396</td>\n",
       "      <td>10.447617</td>\n",
       "    </tr>\n",
       "    <tr>\n",
       "      <th>1.00</th>\n",
       "      <td>5.599538</td>\n",
       "      <td>5.488476</td>\n",
       "      <td>8.013633</td>\n",
       "      <td>7.718308</td>\n",
       "    </tr>\n",
       "    <tr>\n",
       "      <th>1.05</th>\n",
       "      <td>3.376049</td>\n",
       "      <td>3.293728</td>\n",
       "      <td>5.809503</td>\n",
       "      <td>5.497562</td>\n",
       "    </tr>\n",
       "  </tbody>\n",
       "</table>\n",
       "</div>"
      ],
      "text/plain": [
       "       Case II  Case III    Case IV     Case V\n",
       "0.95  8.442156  8.419183  10.689396  10.447617\n",
       "1.00  5.599538  5.488476   8.013633   7.718308\n",
       "1.05  3.376049  3.293728   5.809503   5.497562"
      ]
     },
     "execution_count": 10,
     "metadata": {},
     "output_type": "execute_result"
    }
   ],
   "source": [
    "table_for_version2"
   ]
  },
  {
   "cell_type": "markdown",
   "metadata": {},
   "source": [
    "Exact MC"
   ]
  },
  {
   "cell_type": "code",
   "execution_count": 11,
   "metadata": {},
   "outputs": [
    {
     "data": {
      "text/html": [
       "<div>\n",
       "<style scoped>\n",
       "    .dataframe tbody tr th:only-of-type {\n",
       "        vertical-align: middle;\n",
       "    }\n",
       "\n",
       "    .dataframe tbody tr th {\n",
       "        vertical-align: top;\n",
       "    }\n",
       "\n",
       "    .dataframe thead th {\n",
       "        text-align: right;\n",
       "    }\n",
       "</style>\n",
       "<table border=\"1\" class=\"dataframe\">\n",
       "  <thead>\n",
       "    <tr style=\"text-align: right;\">\n",
       "      <th></th>\n",
       "      <th>Case II</th>\n",
       "      <th>Case III</th>\n",
       "      <th>Case IV</th>\n",
       "      <th>Case V</th>\n",
       "    </tr>\n",
       "  </thead>\n",
       "  <tbody>\n",
       "    <tr>\n",
       "      <th>0.95</th>\n",
       "      <td>10.364</td>\n",
       "      <td>10.055</td>\n",
       "      <td>11.657</td>\n",
       "      <td>11.724</td>\n",
       "    </tr>\n",
       "    <tr>\n",
       "      <th>1.00</th>\n",
       "      <td>7.386</td>\n",
       "      <td>7.042</td>\n",
       "      <td>8.926</td>\n",
       "      <td>8.999</td>\n",
       "    </tr>\n",
       "    <tr>\n",
       "      <th>1.05</th>\n",
       "      <td>4.938</td>\n",
       "      <td>4.586</td>\n",
       "      <td>6.636</td>\n",
       "      <td>6.710</td>\n",
       "    </tr>\n",
       "  </tbody>\n",
       "</table>\n",
       "</div>"
      ],
      "text/plain": [
       "      Case II  Case III  Case IV  Case V\n",
       "0.95   10.364    10.055   11.657  11.724\n",
       "1.00    7.386     7.042    8.926   8.999\n",
       "1.05    4.938     4.586    6.636   6.710"
      ]
     },
     "execution_count": 11,
     "metadata": {},
     "output_type": "execute_result"
    }
   ],
   "source": [
    "table_for_EMC"
   ]
  },
  {
   "cell_type": "markdown",
   "metadata": {},
   "source": [
    "BSM model"
   ]
  },
  {
   "cell_type": "code",
   "execution_count": 12,
   "metadata": {},
   "outputs": [
    {
     "data": {
      "text/html": [
       "<div>\n",
       "<style scoped>\n",
       "    .dataframe tbody tr th:only-of-type {\n",
       "        vertical-align: middle;\n",
       "    }\n",
       "\n",
       "    .dataframe tbody tr th {\n",
       "        vertical-align: top;\n",
       "    }\n",
       "\n",
       "    .dataframe thead th {\n",
       "        text-align: right;\n",
       "    }\n",
       "</style>\n",
       "<table border=\"1\" class=\"dataframe\">\n",
       "  <thead>\n",
       "    <tr style=\"text-align: right;\">\n",
       "      <th></th>\n",
       "      <th>BSM</th>\n",
       "    </tr>\n",
       "  </thead>\n",
       "  <tbody>\n",
       "    <tr>\n",
       "      <th>0.95</th>\n",
       "      <td>9.520830</td>\n",
       "    </tr>\n",
       "    <tr>\n",
       "      <th>1.00</th>\n",
       "      <td>6.901255</td>\n",
       "    </tr>\n",
       "    <tr>\n",
       "      <th>1.05</th>\n",
       "      <td>4.851830</td>\n",
       "    </tr>\n",
       "  </tbody>\n",
       "</table>\n",
       "</div>"
      ],
      "text/plain": [
       "           BSM\n",
       "0.95  9.520830\n",
       "1.00  6.901255\n",
       "1.05  4.851830"
      ]
     },
     "execution_count": 12,
     "metadata": {},
     "output_type": "execute_result"
    }
   ],
   "source": [
    "table_for_BSM"
   ]
  },
  {
   "cell_type": "markdown",
   "metadata": {},
   "source": [
    "From BSM model, we can see the prices are far away from EMC. Then we will not dig into BSM model\n",
    "From two versions of AEMC, we can see that the prices in version-1 is unreliable, however, the version-2 is much closer to the results from EMC."
   ]
  },
  {
   "cell_type": "code",
   "execution_count": 13,
   "metadata": {},
   "outputs": [
    {
     "data": {
      "text/html": [
       "<div>\n",
       "<style scoped>\n",
       "    .dataframe tbody tr th:only-of-type {\n",
       "        vertical-align: middle;\n",
       "    }\n",
       "\n",
       "    .dataframe tbody tr th {\n",
       "        vertical-align: top;\n",
       "    }\n",
       "\n",
       "    .dataframe thead th {\n",
       "        text-align: right;\n",
       "    }\n",
       "</style>\n",
       "<table border=\"1\" class=\"dataframe\">\n",
       "  <thead>\n",
       "    <tr style=\"text-align: right;\">\n",
       "      <th></th>\n",
       "      <th>Case II</th>\n",
       "      <th>Case III</th>\n",
       "      <th>Case IV</th>\n",
       "      <th>Case V</th>\n",
       "    </tr>\n",
       "  </thead>\n",
       "  <tbody>\n",
       "    <tr>\n",
       "      <th>0.95</th>\n",
       "      <td>1.921844</td>\n",
       "      <td>1.635817</td>\n",
       "      <td>0.967604</td>\n",
       "      <td>1.276383</td>\n",
       "    </tr>\n",
       "    <tr>\n",
       "      <th>1.00</th>\n",
       "      <td>1.786462</td>\n",
       "      <td>1.553524</td>\n",
       "      <td>0.912367</td>\n",
       "      <td>1.280692</td>\n",
       "    </tr>\n",
       "    <tr>\n",
       "      <th>1.05</th>\n",
       "      <td>1.561951</td>\n",
       "      <td>1.292272</td>\n",
       "      <td>0.826497</td>\n",
       "      <td>1.212438</td>\n",
       "    </tr>\n",
       "  </tbody>\n",
       "</table>\n",
       "</div>"
      ],
      "text/plain": [
       "       Case II  Case III   Case IV    Case V\n",
       "0.95  1.921844  1.635817  0.967604  1.276383\n",
       "1.00  1.786462  1.553524  0.912367  1.280692\n",
       "1.05  1.561951  1.292272  0.826497  1.212438"
      ]
     },
     "execution_count": 13,
     "metadata": {},
     "output_type": "execute_result"
    }
   ],
   "source": [
    "table_for_EMC - table_for_version2"
   ]
  },
  {
   "cell_type": "markdown",
   "metadata": {},
   "source": [
    "We can see that in Case V of AEMC, the prices are closes to the prices in EMC. Hence, we draw implied volatility surface in Case V."
   ]
  },
  {
   "cell_type": "markdown",
   "metadata": {},
   "source": [
    "## Implied Volatility Surface in Case V"
   ]
  },
  {
   "cell_type": "markdown",
   "metadata": {},
   "source": [
    "In this part, we willdraw implied volatility surface in Case V. The original parameters are."
   ]
  },
  {
   "cell_type": "markdown",
   "metadata": {},
   "source": [
    "|Parameters|$$S_0$$|$$\\kappa$$|$$\\theta$$|$$\\epsilon$$|$$\\rho$$|$$V_0$$|$$r$$|\n",
    "|:- - - |:- - - |:- - - |:- - - |:- - - |:- - - |:- - - |:- - - |\n",
    "|Case V|100|20.48|0.218|3.2|-0.99|0.06|0|"
   ]
  },
  {
   "cell_type": "markdown",
   "metadata": {},
   "source": [
    "Implied Volatility Surface"
   ]
  },
  {
   "cell_type": "code",
   "execution_count": 14,
   "metadata": {
    "scrolled": false
   },
   "outputs": [
    {
     "data": {
      "image/png": "[encoded data removed]",
      "text/plain": [
       "<Figure size 864x576 with 1 Axes>"
      ]
     },
     "metadata": {
      "needs_background": "light"
     },
     "output_type": "display_data"
    }
   ],
   "source": [
    "S0 = 100\n",
    "Ks = np.linspace(80, 120, num=50, endpoint=True, retstep=False, dtype=None)\n",
    "T = np.linspace(1, 4, num=20, endpoint=True, retstep=False, dtype=None)\n",
    "Z = np.zeros([len(T),len(Ks)])\n",
    "for idx,t in enumerate(T):\n",
    "    aemc = pf.Sv32McAe(S0, Ks, t ,r=0.05, sigma_0=1, beta=1, rho=-0.5, theta=1.5, kappa=2, vov=0.2, path_num = 100, cp=1)\n",
    "    aemc.optionPrice_version2()\n",
    "    Z[idx,:] = aemc.impliedVolatility1()\n",
    "\n",
    "fig = plt.figure(figsize=(12, 8))\n",
    "ax = Axes3D(fig)\n",
    "delta = 0.5\n",
    "# 对x、y数据执行网格化\n",
    "X, Y = np.meshgrid(Ks,T)\n",
    "\n",
    "# 绘制3D图形\n",
    "ax.plot_surface(X, Y, Z,\n",
    "    rstride=1,  # rstride（row）指定行的跨度\n",
    "    cstride=1,  # cstride(column)指定列的跨度\n",
    "    cmap=plt.get_cmap('rainbow'))  # 设置颜色映射\n",
    "# 设置Z轴范围\n",
    "# ax.set_zlim(-2, 2)\n",
    "# 设置标题\n",
    "plt.title(\"volatility\")\n",
    "plt.show()"
   ]
  },
  {
   "cell_type": "markdown",
   "metadata": {},
   "source": [
    "# Part 3: Analysis:"
   ]
  },
  {
   "cell_type": "markdown",
   "metadata": {},
   "source": [
    "Strengths:\n",
    "\n",
    "Compared with exact MC method, almost exact MC method is not that time-consuming. For exact MC method, the most time consuming step when sampling from the conditional distribution is the evaluation of the modified Bessel function of the first kind, $I_\\nu(z)$, which has to be evaluated at **complex** $\\nu$.Besides, drawing random from numerical CDF is also slow. However, for almost exact method, it supposes $V_T$ subjects to an easy and well-known distribution by matching fisrt and second moment, which saves much time.\n",
    "\n",
    "Weaknesses:\n",
    "\n",
    "Almost exact MC is also time-consuming compared with conditional MC. Besides, the outcome we get right now is not accurate. Maybe we need further analysis, e.g inverse gaussian."
   ]
  },
  {
   "cell_type": "markdown",
   "metadata": {},
   "source": [
    "# Part 4: References"
   ]
  },
  {
   "cell_type": "markdown",
   "metadata": {},
   "source": [
    "[1] Kouarfate, I. R. , Kouritzin, M. A. , & Mackay, A. . (2020). Explicit solution simulation method for the 3/2 model. Papers.\n",
    "\n",
    "[2] Jan Baldeaux. Exact simulation of the 3/2 model. International Journal of Theoretical and Applied Finance, 15(05):1250032, 2012. doi:10.1142/S021902491250032X. http://arxiv.org/abs/1105.3297."
   ]
  }
 ],
 "metadata": {
  "kernelspec": {
   "display_name": "Python 3",
   "language": "python",
   "name": "python3"
  },
  "language_info": {
   "codemirror_mode": {
    "name": "ipython",
    "version": 3
   },
   "file_extension": ".py",
   "mimetype": "text/x-python",
   "name": "python",
   "nbconvert_exporter": "python",
   "pygments_lexer": "ipython3",
   "version": "3.8.5"
  },
  "toc": {
   "base_numbering": 1,
   "nav_menu": {},
   "number_sections": true,
   "sideBar": true,
   "skip_h1_title": false,
   "title_cell": "Table of Contents",
   "title_sidebar": "Contents",
   "toc_cell": false,
   "toc_position": {},
   "toc_section_display": true,
   "toc_window_display": false
  }
 },
 "nbformat": 4,
 "nbformat_minor": 4
}
